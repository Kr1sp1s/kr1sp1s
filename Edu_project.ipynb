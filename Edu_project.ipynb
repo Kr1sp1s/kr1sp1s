{
  "cells": [
    {
      "cell_type": "code",
      "execution_count": null,
      "metadata": {
        "id": "yFfq8jvgbLE3"
      },
      "outputs": [],
      "source": [
        "import pandas as pd\n",
        "import seaborn as sns\n",
        "import matplotlib.pyplot as plt\n",
        "\n",
        "import requests\n",
        "from urllib.parse import urlencode"
      ]
    },
    {
      "cell_type": "markdown",
      "metadata": {
        "id": "AXzIAIzDbLE4"
      },
      "source": [
        "### Загрузим данные и проверим типы данных, пропуски, дубликаты, посмотрим на описательные статистики"
      ]
    },
    {
      "cell_type": "code",
      "execution_count": null,
      "metadata": {
        "colab": {
          "base_uri": "https://localhost:8080/"
        },
        "id": "M-781cBmbLE5",
        "outputId": "b095945f-3b76-42d9-999c-783fed6ca78a"
      },
      "outputs": [
        {
          "output_type": "stream",
          "name": "stderr",
          "text": [
            "INFO:pycodestyle:4:80: E501 line too long (80 > 79 characters)\n"
          ]
        }
      ],
      "source": [
        "# Функция для скачивания файлов\n",
        "\n",
        "def download(key):\n",
        "    base_url = 'https://cloud-api.yandex.net/v1/disk/public/resources/download?'\n",
        "    final_url = base_url + urlencode(dict(public_key=key))\n",
        "    response = requests.get(final_url)\n",
        "    download_url = response.json()['href']\n",
        "    return download_url"
      ]
    },
    {
      "cell_type": "code",
      "execution_count": null,
      "metadata": {
        "id": "6ro9zVX5bLE5"
      },
      "outputs": [],
      "source": [
        "assessments = pd.read_csv(download('https://disk.yandex.ru/d/DirOCOZ5ClAg8A'))"
      ]
    },
    {
      "cell_type": "code",
      "source": [
        "assessments.head()"
      ],
      "metadata": {
        "colab": {
          "base_uri": "https://localhost:8080/",
          "height": 206
        },
        "id": "kUs3d9LDeBoI",
        "outputId": "58a8b19e-dbb8-49d8-f66a-5578ba06f696"
      },
      "execution_count": null,
      "outputs": [
        {
          "output_type": "execute_result",
          "data": {
            "text/plain": [
              "  code_module code_presentation  id_assessment assessment_type   date  weight\n",
              "0         AAA             2013J           1752             TMA   19.0    10.0\n",
              "1         AAA             2013J           1753             TMA   54.0    20.0\n",
              "2         AAA             2013J           1754             TMA  117.0    20.0\n",
              "3         AAA             2013J           1755             TMA  166.0    20.0\n",
              "4         AAA             2013J           1756             TMA  215.0    30.0"
            ],
            "text/html": [
              "\n",
              "  <div id=\"df-c62135ef-91c8-451a-8fcc-dc7ad455874e\">\n",
              "    <div class=\"colab-df-container\">\n",
              "      <div>\n",
              "<style scoped>\n",
              "    .dataframe tbody tr th:only-of-type {\n",
              "        vertical-align: middle;\n",
              "    }\n",
              "\n",
              "    .dataframe tbody tr th {\n",
              "        vertical-align: top;\n",
              "    }\n",
              "\n",
              "    .dataframe thead th {\n",
              "        text-align: right;\n",
              "    }\n",
              "</style>\n",
              "<table border=\"1\" class=\"dataframe\">\n",
              "  <thead>\n",
              "    <tr style=\"text-align: right;\">\n",
              "      <th></th>\n",
              "      <th>code_module</th>\n",
              "      <th>code_presentation</th>\n",
              "      <th>id_assessment</th>\n",
              "      <th>assessment_type</th>\n",
              "      <th>date</th>\n",
              "      <th>weight</th>\n",
              "    </tr>\n",
              "  </thead>\n",
              "  <tbody>\n",
              "    <tr>\n",
              "      <th>0</th>\n",
              "      <td>AAA</td>\n",
              "      <td>2013J</td>\n",
              "      <td>1752</td>\n",
              "      <td>TMA</td>\n",
              "      <td>19.0</td>\n",
              "      <td>10.0</td>\n",
              "    </tr>\n",
              "    <tr>\n",
              "      <th>1</th>\n",
              "      <td>AAA</td>\n",
              "      <td>2013J</td>\n",
              "      <td>1753</td>\n",
              "      <td>TMA</td>\n",
              "      <td>54.0</td>\n",
              "      <td>20.0</td>\n",
              "    </tr>\n",
              "    <tr>\n",
              "      <th>2</th>\n",
              "      <td>AAA</td>\n",
              "      <td>2013J</td>\n",
              "      <td>1754</td>\n",
              "      <td>TMA</td>\n",
              "      <td>117.0</td>\n",
              "      <td>20.0</td>\n",
              "    </tr>\n",
              "    <tr>\n",
              "      <th>3</th>\n",
              "      <td>AAA</td>\n",
              "      <td>2013J</td>\n",
              "      <td>1755</td>\n",
              "      <td>TMA</td>\n",
              "      <td>166.0</td>\n",
              "      <td>20.0</td>\n",
              "    </tr>\n",
              "    <tr>\n",
              "      <th>4</th>\n",
              "      <td>AAA</td>\n",
              "      <td>2013J</td>\n",
              "      <td>1756</td>\n",
              "      <td>TMA</td>\n",
              "      <td>215.0</td>\n",
              "      <td>30.0</td>\n",
              "    </tr>\n",
              "  </tbody>\n",
              "</table>\n",
              "</div>\n",
              "      <button class=\"colab-df-convert\" onclick=\"convertToInteractive('df-c62135ef-91c8-451a-8fcc-dc7ad455874e')\"\n",
              "              title=\"Convert this dataframe to an interactive table.\"\n",
              "              style=\"display:none;\">\n",
              "        \n",
              "  <svg xmlns=\"http://www.w3.org/2000/svg\" height=\"24px\"viewBox=\"0 0 24 24\"\n",
              "       width=\"24px\">\n",
              "    <path d=\"M0 0h24v24H0V0z\" fill=\"none\"/>\n",
              "    <path d=\"M18.56 5.44l.94 2.06.94-2.06 2.06-.94-2.06-.94-.94-2.06-.94 2.06-2.06.94zm-11 1L8.5 8.5l.94-2.06 2.06-.94-2.06-.94L8.5 2.5l-.94 2.06-2.06.94zm10 10l.94 2.06.94-2.06 2.06-.94-2.06-.94-.94-2.06-.94 2.06-2.06.94z\"/><path d=\"M17.41 7.96l-1.37-1.37c-.4-.4-.92-.59-1.43-.59-.52 0-1.04.2-1.43.59L10.3 9.45l-7.72 7.72c-.78.78-.78 2.05 0 2.83L4 21.41c.39.39.9.59 1.41.59.51 0 1.02-.2 1.41-.59l7.78-7.78 2.81-2.81c.8-.78.8-2.07 0-2.86zM5.41 20L4 18.59l7.72-7.72 1.47 1.35L5.41 20z\"/>\n",
              "  </svg>\n",
              "      </button>\n",
              "      \n",
              "  <style>\n",
              "    .colab-df-container {\n",
              "      display:flex;\n",
              "      flex-wrap:wrap;\n",
              "      gap: 12px;\n",
              "    }\n",
              "\n",
              "    .colab-df-convert {\n",
              "      background-color: #E8F0FE;\n",
              "      border: none;\n",
              "      border-radius: 50%;\n",
              "      cursor: pointer;\n",
              "      display: none;\n",
              "      fill: #1967D2;\n",
              "      height: 32px;\n",
              "      padding: 0 0 0 0;\n",
              "      width: 32px;\n",
              "    }\n",
              "\n",
              "    .colab-df-convert:hover {\n",
              "      background-color: #E2EBFA;\n",
              "      box-shadow: 0px 1px 2px rgba(60, 64, 67, 0.3), 0px 1px 3px 1px rgba(60, 64, 67, 0.15);\n",
              "      fill: #174EA6;\n",
              "    }\n",
              "\n",
              "    [theme=dark] .colab-df-convert {\n",
              "      background-color: #3B4455;\n",
              "      fill: #D2E3FC;\n",
              "    }\n",
              "\n",
              "    [theme=dark] .colab-df-convert:hover {\n",
              "      background-color: #434B5C;\n",
              "      box-shadow: 0px 1px 3px 1px rgba(0, 0, 0, 0.15);\n",
              "      filter: drop-shadow(0px 1px 2px rgba(0, 0, 0, 0.3));\n",
              "      fill: #FFFFFF;\n",
              "    }\n",
              "  </style>\n",
              "\n",
              "      <script>\n",
              "        const buttonEl =\n",
              "          document.querySelector('#df-c62135ef-91c8-451a-8fcc-dc7ad455874e button.colab-df-convert');\n",
              "        buttonEl.style.display =\n",
              "          google.colab.kernel.accessAllowed ? 'block' : 'none';\n",
              "\n",
              "        async function convertToInteractive(key) {\n",
              "          const element = document.querySelector('#df-c62135ef-91c8-451a-8fcc-dc7ad455874e');\n",
              "          const dataTable =\n",
              "            await google.colab.kernel.invokeFunction('convertToInteractive',\n",
              "                                                     [key], {});\n",
              "          if (!dataTable) return;\n",
              "\n",
              "          const docLinkHtml = 'Like what you see? Visit the ' +\n",
              "            '<a target=\"_blank\" href=https://colab.research.google.com/notebooks/data_table.ipynb>data table notebook</a>'\n",
              "            + ' to learn more about interactive tables.';\n",
              "          element.innerHTML = '';\n",
              "          dataTable['output_type'] = 'display_data';\n",
              "          await google.colab.output.renderOutput(dataTable, element);\n",
              "          const docLink = document.createElement('div');\n",
              "          docLink.innerHTML = docLinkHtml;\n",
              "          element.appendChild(docLink);\n",
              "        }\n",
              "      </script>\n",
              "    </div>\n",
              "  </div>\n",
              "  "
            ]
          },
          "metadata": {},
          "execution_count": 20
        }
      ]
    },
    {
      "cell_type": "code",
      "execution_count": null,
      "metadata": {
        "colab": {
          "base_uri": "https://localhost:8080/"
        },
        "id": "KOUPo6afbLE6",
        "outputId": "55a0a845-8397-48fb-99f2-cb70b7a37b82"
      },
      "outputs": [
        {
          "output_type": "stream",
          "name": "stdout",
          "text": [
            "<class 'pandas.core.frame.DataFrame'>\n",
            "RangeIndex: 206 entries, 0 to 205\n",
            "Data columns (total 6 columns):\n",
            " #   Column             Non-Null Count  Dtype  \n",
            "---  ------             --------------  -----  \n",
            " 0   code_module        206 non-null    object \n",
            " 1   code_presentation  206 non-null    object \n",
            " 2   id_assessment      206 non-null    int64  \n",
            " 3   assessment_type    206 non-null    object \n",
            " 4   date               195 non-null    float64\n",
            " 5   weight             206 non-null    float64\n",
            "dtypes: float64(2), int64(1), object(3)\n",
            "memory usage: 9.8+ KB\n"
          ]
        }
      ],
      "source": [
        "assessments.info()"
      ]
    },
    {
      "cell_type": "markdown",
      "metadata": {
        "id": "5BJf5IuhbLE_"
      },
      "source": [
        "В первом датафрейме имеем 206 строк (записей) и 6 колонок. В колонке date пропущено 11 значений (все относятся к типу теста Exam). Дублей не найдено. В датафрейме содержится информация о семи уникальных предметах и 4 уникальных семестрах, каждому предмету соответствует определенное количество тестов, при этом тесты не повторяются . У каждого теста есть свой вес в оценке и, чаще всего, дедлайн для сдачи. Каждый предмет включает в себя один экзамен в семестре (за исключением предмета ССС)."
      ]
    },
    {
      "cell_type": "code",
      "execution_count": null,
      "metadata": {
        "id": "bBjo-AZ0bLE_"
      },
      "outputs": [],
      "source": [
        "courses = pd.read_csv(download('https://disk.yandex.ru/d/QnT8hrlyycKZXA'))"
      ]
    },
    {
      "cell_type": "code",
      "execution_count": null,
      "metadata": {
        "colab": {
          "base_uri": "https://localhost:8080/",
          "height": 206
        },
        "id": "dC383cnIbLE_",
        "outputId": "4a6f082c-f311-4082-ce16-2f0e0a427ad5"
      },
      "outputs": [
        {
          "output_type": "execute_result",
          "data": {
            "text/plain": [
              "  code_module code_presentation  module_presentation_length\n",
              "0         AAA             2013J                         268\n",
              "1         AAA             2014J                         269\n",
              "2         BBB             2013J                         268\n",
              "3         BBB             2014J                         262\n",
              "4         BBB             2013B                         240"
            ],
            "text/html": [
              "\n",
              "  <div id=\"df-24cb530e-6a66-41e5-8c31-1da9ac8002d3\">\n",
              "    <div class=\"colab-df-container\">\n",
              "      <div>\n",
              "<style scoped>\n",
              "    .dataframe tbody tr th:only-of-type {\n",
              "        vertical-align: middle;\n",
              "    }\n",
              "\n",
              "    .dataframe tbody tr th {\n",
              "        vertical-align: top;\n",
              "    }\n",
              "\n",
              "    .dataframe thead th {\n",
              "        text-align: right;\n",
              "    }\n",
              "</style>\n",
              "<table border=\"1\" class=\"dataframe\">\n",
              "  <thead>\n",
              "    <tr style=\"text-align: right;\">\n",
              "      <th></th>\n",
              "      <th>code_module</th>\n",
              "      <th>code_presentation</th>\n",
              "      <th>module_presentation_length</th>\n",
              "    </tr>\n",
              "  </thead>\n",
              "  <tbody>\n",
              "    <tr>\n",
              "      <th>0</th>\n",
              "      <td>AAA</td>\n",
              "      <td>2013J</td>\n",
              "      <td>268</td>\n",
              "    </tr>\n",
              "    <tr>\n",
              "      <th>1</th>\n",
              "      <td>AAA</td>\n",
              "      <td>2014J</td>\n",
              "      <td>269</td>\n",
              "    </tr>\n",
              "    <tr>\n",
              "      <th>2</th>\n",
              "      <td>BBB</td>\n",
              "      <td>2013J</td>\n",
              "      <td>268</td>\n",
              "    </tr>\n",
              "    <tr>\n",
              "      <th>3</th>\n",
              "      <td>BBB</td>\n",
              "      <td>2014J</td>\n",
              "      <td>262</td>\n",
              "    </tr>\n",
              "    <tr>\n",
              "      <th>4</th>\n",
              "      <td>BBB</td>\n",
              "      <td>2013B</td>\n",
              "      <td>240</td>\n",
              "    </tr>\n",
              "  </tbody>\n",
              "</table>\n",
              "</div>\n",
              "      <button class=\"colab-df-convert\" onclick=\"convertToInteractive('df-24cb530e-6a66-41e5-8c31-1da9ac8002d3')\"\n",
              "              title=\"Convert this dataframe to an interactive table.\"\n",
              "              style=\"display:none;\">\n",
              "        \n",
              "  <svg xmlns=\"http://www.w3.org/2000/svg\" height=\"24px\"viewBox=\"0 0 24 24\"\n",
              "       width=\"24px\">\n",
              "    <path d=\"M0 0h24v24H0V0z\" fill=\"none\"/>\n",
              "    <path d=\"M18.56 5.44l.94 2.06.94-2.06 2.06-.94-2.06-.94-.94-2.06-.94 2.06-2.06.94zm-11 1L8.5 8.5l.94-2.06 2.06-.94-2.06-.94L8.5 2.5l-.94 2.06-2.06.94zm10 10l.94 2.06.94-2.06 2.06-.94-2.06-.94-.94-2.06-.94 2.06-2.06.94z\"/><path d=\"M17.41 7.96l-1.37-1.37c-.4-.4-.92-.59-1.43-.59-.52 0-1.04.2-1.43.59L10.3 9.45l-7.72 7.72c-.78.78-.78 2.05 0 2.83L4 21.41c.39.39.9.59 1.41.59.51 0 1.02-.2 1.41-.59l7.78-7.78 2.81-2.81c.8-.78.8-2.07 0-2.86zM5.41 20L4 18.59l7.72-7.72 1.47 1.35L5.41 20z\"/>\n",
              "  </svg>\n",
              "      </button>\n",
              "      \n",
              "  <style>\n",
              "    .colab-df-container {\n",
              "      display:flex;\n",
              "      flex-wrap:wrap;\n",
              "      gap: 12px;\n",
              "    }\n",
              "\n",
              "    .colab-df-convert {\n",
              "      background-color: #E8F0FE;\n",
              "      border: none;\n",
              "      border-radius: 50%;\n",
              "      cursor: pointer;\n",
              "      display: none;\n",
              "      fill: #1967D2;\n",
              "      height: 32px;\n",
              "      padding: 0 0 0 0;\n",
              "      width: 32px;\n",
              "    }\n",
              "\n",
              "    .colab-df-convert:hover {\n",
              "      background-color: #E2EBFA;\n",
              "      box-shadow: 0px 1px 2px rgba(60, 64, 67, 0.3), 0px 1px 3px 1px rgba(60, 64, 67, 0.15);\n",
              "      fill: #174EA6;\n",
              "    }\n",
              "\n",
              "    [theme=dark] .colab-df-convert {\n",
              "      background-color: #3B4455;\n",
              "      fill: #D2E3FC;\n",
              "    }\n",
              "\n",
              "    [theme=dark] .colab-df-convert:hover {\n",
              "      background-color: #434B5C;\n",
              "      box-shadow: 0px 1px 3px 1px rgba(0, 0, 0, 0.15);\n",
              "      filter: drop-shadow(0px 1px 2px rgba(0, 0, 0, 0.3));\n",
              "      fill: #FFFFFF;\n",
              "    }\n",
              "  </style>\n",
              "\n",
              "      <script>\n",
              "        const buttonEl =\n",
              "          document.querySelector('#df-24cb530e-6a66-41e5-8c31-1da9ac8002d3 button.colab-df-convert');\n",
              "        buttonEl.style.display =\n",
              "          google.colab.kernel.accessAllowed ? 'block' : 'none';\n",
              "\n",
              "        async function convertToInteractive(key) {\n",
              "          const element = document.querySelector('#df-24cb530e-6a66-41e5-8c31-1da9ac8002d3');\n",
              "          const dataTable =\n",
              "            await google.colab.kernel.invokeFunction('convertToInteractive',\n",
              "                                                     [key], {});\n",
              "          if (!dataTable) return;\n",
              "\n",
              "          const docLinkHtml = 'Like what you see? Visit the ' +\n",
              "            '<a target=\"_blank\" href=https://colab.research.google.com/notebooks/data_table.ipynb>data table notebook</a>'\n",
              "            + ' to learn more about interactive tables.';\n",
              "          element.innerHTML = '';\n",
              "          dataTable['output_type'] = 'display_data';\n",
              "          await google.colab.output.renderOutput(dataTable, element);\n",
              "          const docLink = document.createElement('div');\n",
              "          docLink.innerHTML = docLinkHtml;\n",
              "          element.appendChild(docLink);\n",
              "        }\n",
              "      </script>\n",
              "    </div>\n",
              "  </div>\n",
              "  "
            ]
          },
          "metadata": {},
          "execution_count": 23
        }
      ],
      "source": [
        "courses.head()"
      ]
    },
    {
      "cell_type": "code",
      "execution_count": null,
      "metadata": {
        "colab": {
          "base_uri": "https://localhost:8080/"
        },
        "id": "hZXNEmIGbLE_",
        "outputId": "994da36f-3203-4d14-8b67-8a51231d4493"
      },
      "outputs": [
        {
          "output_type": "stream",
          "name": "stdout",
          "text": [
            "<class 'pandas.core.frame.DataFrame'>\n",
            "RangeIndex: 22 entries, 0 to 21\n",
            "Data columns (total 3 columns):\n",
            " #   Column                      Non-Null Count  Dtype \n",
            "---  ------                      --------------  ----- \n",
            " 0   code_module                 22 non-null     object\n",
            " 1   code_presentation           22 non-null     object\n",
            " 2   module_presentation_length  22 non-null     int64 \n",
            "dtypes: int64(1), object(2)\n",
            "memory usage: 656.0+ bytes\n"
          ]
        }
      ],
      "source": [
        "courses.info()"
      ]
    },
    {
      "cell_type": "markdown",
      "metadata": {
        "id": "dawzN3aabLFA"
      },
      "source": [
        "Во втором датафрейме имеем 22 строки (записи) и 3 колонки. Пропущенных значений нет. Дублей нет. Уникальное количество предметов и семестров в данном датафрейме совпадает с количеством в первом датафрейме (assessments)."
      ]
    },
    {
      "cell_type": "code",
      "execution_count": null,
      "metadata": {
        "colab": {
          "base_uri": "https://localhost:8080/"
        },
        "id": "ZU4gyAwkbLFB",
        "outputId": "183f1b7c-060f-4b66-9f09-6fedddfeedc6"
      },
      "outputs": [
        {
          "output_type": "stream",
          "name": "stderr",
          "text": [
            "INFO:pycodestyle:1:80: E501 line too long (84 > 79 characters)\n"
          ]
        }
      ],
      "source": [
        "studentAssessment = pd.read_csv(download('https://disk.yandex.ru/d/1GcyxZiu5RSDvg'))"
      ]
    },
    {
      "cell_type": "code",
      "execution_count": null,
      "metadata": {
        "colab": {
          "base_uri": "https://localhost:8080/",
          "height": 206
        },
        "id": "NDdVeblRbLFB",
        "outputId": "712e4e6b-d0f3-444f-db37-e6b6ebee08d1"
      },
      "outputs": [
        {
          "output_type": "execute_result",
          "data": {
            "text/plain": [
              "   id_assessment  id_student  date_submitted  is_banked  score\n",
              "0           1752       11391              18          0   78.0\n",
              "1           1752       28400              22          0   70.0\n",
              "2           1752       31604              17          0   72.0\n",
              "3           1752       32885              26          0   69.0\n",
              "4           1752       38053              19          0   79.0"
            ],
            "text/html": [
              "\n",
              "  <div id=\"df-26b1f70b-b885-45d0-9984-2c944b13fb8d\">\n",
              "    <div class=\"colab-df-container\">\n",
              "      <div>\n",
              "<style scoped>\n",
              "    .dataframe tbody tr th:only-of-type {\n",
              "        vertical-align: middle;\n",
              "    }\n",
              "\n",
              "    .dataframe tbody tr th {\n",
              "        vertical-align: top;\n",
              "    }\n",
              "\n",
              "    .dataframe thead th {\n",
              "        text-align: right;\n",
              "    }\n",
              "</style>\n",
              "<table border=\"1\" class=\"dataframe\">\n",
              "  <thead>\n",
              "    <tr style=\"text-align: right;\">\n",
              "      <th></th>\n",
              "      <th>id_assessment</th>\n",
              "      <th>id_student</th>\n",
              "      <th>date_submitted</th>\n",
              "      <th>is_banked</th>\n",
              "      <th>score</th>\n",
              "    </tr>\n",
              "  </thead>\n",
              "  <tbody>\n",
              "    <tr>\n",
              "      <th>0</th>\n",
              "      <td>1752</td>\n",
              "      <td>11391</td>\n",
              "      <td>18</td>\n",
              "      <td>0</td>\n",
              "      <td>78.0</td>\n",
              "    </tr>\n",
              "    <tr>\n",
              "      <th>1</th>\n",
              "      <td>1752</td>\n",
              "      <td>28400</td>\n",
              "      <td>22</td>\n",
              "      <td>0</td>\n",
              "      <td>70.0</td>\n",
              "    </tr>\n",
              "    <tr>\n",
              "      <th>2</th>\n",
              "      <td>1752</td>\n",
              "      <td>31604</td>\n",
              "      <td>17</td>\n",
              "      <td>0</td>\n",
              "      <td>72.0</td>\n",
              "    </tr>\n",
              "    <tr>\n",
              "      <th>3</th>\n",
              "      <td>1752</td>\n",
              "      <td>32885</td>\n",
              "      <td>26</td>\n",
              "      <td>0</td>\n",
              "      <td>69.0</td>\n",
              "    </tr>\n",
              "    <tr>\n",
              "      <th>4</th>\n",
              "      <td>1752</td>\n",
              "      <td>38053</td>\n",
              "      <td>19</td>\n",
              "      <td>0</td>\n",
              "      <td>79.0</td>\n",
              "    </tr>\n",
              "  </tbody>\n",
              "</table>\n",
              "</div>\n",
              "      <button class=\"colab-df-convert\" onclick=\"convertToInteractive('df-26b1f70b-b885-45d0-9984-2c944b13fb8d')\"\n",
              "              title=\"Convert this dataframe to an interactive table.\"\n",
              "              style=\"display:none;\">\n",
              "        \n",
              "  <svg xmlns=\"http://www.w3.org/2000/svg\" height=\"24px\"viewBox=\"0 0 24 24\"\n",
              "       width=\"24px\">\n",
              "    <path d=\"M0 0h24v24H0V0z\" fill=\"none\"/>\n",
              "    <path d=\"M18.56 5.44l.94 2.06.94-2.06 2.06-.94-2.06-.94-.94-2.06-.94 2.06-2.06.94zm-11 1L8.5 8.5l.94-2.06 2.06-.94-2.06-.94L8.5 2.5l-.94 2.06-2.06.94zm10 10l.94 2.06.94-2.06 2.06-.94-2.06-.94-.94-2.06-.94 2.06-2.06.94z\"/><path d=\"M17.41 7.96l-1.37-1.37c-.4-.4-.92-.59-1.43-.59-.52 0-1.04.2-1.43.59L10.3 9.45l-7.72 7.72c-.78.78-.78 2.05 0 2.83L4 21.41c.39.39.9.59 1.41.59.51 0 1.02-.2 1.41-.59l7.78-7.78 2.81-2.81c.8-.78.8-2.07 0-2.86zM5.41 20L4 18.59l7.72-7.72 1.47 1.35L5.41 20z\"/>\n",
              "  </svg>\n",
              "      </button>\n",
              "      \n",
              "  <style>\n",
              "    .colab-df-container {\n",
              "      display:flex;\n",
              "      flex-wrap:wrap;\n",
              "      gap: 12px;\n",
              "    }\n",
              "\n",
              "    .colab-df-convert {\n",
              "      background-color: #E8F0FE;\n",
              "      border: none;\n",
              "      border-radius: 50%;\n",
              "      cursor: pointer;\n",
              "      display: none;\n",
              "      fill: #1967D2;\n",
              "      height: 32px;\n",
              "      padding: 0 0 0 0;\n",
              "      width: 32px;\n",
              "    }\n",
              "\n",
              "    .colab-df-convert:hover {\n",
              "      background-color: #E2EBFA;\n",
              "      box-shadow: 0px 1px 2px rgba(60, 64, 67, 0.3), 0px 1px 3px 1px rgba(60, 64, 67, 0.15);\n",
              "      fill: #174EA6;\n",
              "    }\n",
              "\n",
              "    [theme=dark] .colab-df-convert {\n",
              "      background-color: #3B4455;\n",
              "      fill: #D2E3FC;\n",
              "    }\n",
              "\n",
              "    [theme=dark] .colab-df-convert:hover {\n",
              "      background-color: #434B5C;\n",
              "      box-shadow: 0px 1px 3px 1px rgba(0, 0, 0, 0.15);\n",
              "      filter: drop-shadow(0px 1px 2px rgba(0, 0, 0, 0.3));\n",
              "      fill: #FFFFFF;\n",
              "    }\n",
              "  </style>\n",
              "\n",
              "      <script>\n",
              "        const buttonEl =\n",
              "          document.querySelector('#df-26b1f70b-b885-45d0-9984-2c944b13fb8d button.colab-df-convert');\n",
              "        buttonEl.style.display =\n",
              "          google.colab.kernel.accessAllowed ? 'block' : 'none';\n",
              "\n",
              "        async function convertToInteractive(key) {\n",
              "          const element = document.querySelector('#df-26b1f70b-b885-45d0-9984-2c944b13fb8d');\n",
              "          const dataTable =\n",
              "            await google.colab.kernel.invokeFunction('convertToInteractive',\n",
              "                                                     [key], {});\n",
              "          if (!dataTable) return;\n",
              "\n",
              "          const docLinkHtml = 'Like what you see? Visit the ' +\n",
              "            '<a target=\"_blank\" href=https://colab.research.google.com/notebooks/data_table.ipynb>data table notebook</a>'\n",
              "            + ' to learn more about interactive tables.';\n",
              "          element.innerHTML = '';\n",
              "          dataTable['output_type'] = 'display_data';\n",
              "          await google.colab.output.renderOutput(dataTable, element);\n",
              "          const docLink = document.createElement('div');\n",
              "          docLink.innerHTML = docLinkHtml;\n",
              "          element.appendChild(docLink);\n",
              "        }\n",
              "      </script>\n",
              "    </div>\n",
              "  </div>\n",
              "  "
            ]
          },
          "metadata": {},
          "execution_count": 26
        }
      ],
      "source": [
        "studentAssessment.head()"
      ]
    },
    {
      "cell_type": "code",
      "execution_count": null,
      "metadata": {
        "colab": {
          "base_uri": "https://localhost:8080/"
        },
        "id": "2vYCXAu8bLFB",
        "outputId": "bf1388f8-09bf-479b-a80d-8771edcfc901"
      },
      "outputs": [
        {
          "output_type": "stream",
          "name": "stdout",
          "text": [
            "<class 'pandas.core.frame.DataFrame'>\n",
            "RangeIndex: 173912 entries, 0 to 173911\n",
            "Data columns (total 5 columns):\n",
            " #   Column          Non-Null Count   Dtype  \n",
            "---  ------          --------------   -----  \n",
            " 0   id_assessment   173912 non-null  int64  \n",
            " 1   id_student      173912 non-null  int64  \n",
            " 2   date_submitted  173912 non-null  int64  \n",
            " 3   is_banked       173912 non-null  int64  \n",
            " 4   score           173739 non-null  float64\n",
            "dtypes: float64(1), int64(4)\n",
            "memory usage: 6.6 MB\n"
          ]
        }
      ],
      "source": [
        "studentAssessment.info()"
      ]
    },
    {
      "cell_type": "markdown",
      "metadata": {
        "id": "md_Zu2nkbLFF"
      },
      "source": [
        "В третьем датафрейме имеем 173912 строки (записи) и 5 колонок. В колонке score 173 пропущенных значения. С типами данных все в порядке, дублей нет. Тесты сдавали 23369 студентов, их средний балл достаточно высок и близок к медианному значению. Датафрейм содержит информацию о сдаче 188 тестов из 206 (информация о которых имеется в датафрейме assessments). "
      ]
    },
    {
      "cell_type": "code",
      "execution_count": null,
      "metadata": {
        "colab": {
          "base_uri": "https://localhost:8080/"
        },
        "id": "Y0CTgPs-bLFF",
        "outputId": "b90979f4-9d75-4e0b-b9a5-f3b1e53784a6"
      },
      "outputs": [
        {
          "output_type": "stream",
          "name": "stderr",
          "text": [
            "INFO:pycodestyle:1:80: E501 line too long (86 > 79 characters)\n"
          ]
        }
      ],
      "source": [
        "studentRegistration = pd.read_csv(download('https://disk.yandex.ru/d/HNskEhOX4JdEdw'))"
      ]
    },
    {
      "cell_type": "code",
      "execution_count": null,
      "metadata": {
        "colab": {
          "base_uri": "https://localhost:8080/",
          "height": 206
        },
        "id": "m0fczeBPbLFF",
        "outputId": "d710cdb9-1f77-4a71-bb23-a81f232ba207"
      },
      "outputs": [
        {
          "output_type": "execute_result",
          "data": {
            "text/plain": [
              "  code_module code_presentation  id_student  date_registration  \\\n",
              "0         AAA             2013J       11391             -159.0   \n",
              "1         AAA             2013J       28400              -53.0   \n",
              "2         AAA             2013J       30268              -92.0   \n",
              "3         AAA             2013J       31604              -52.0   \n",
              "4         AAA             2013J       32885             -176.0   \n",
              "\n",
              "   date_unregistration  \n",
              "0                  NaN  \n",
              "1                  NaN  \n",
              "2                 12.0  \n",
              "3                  NaN  \n",
              "4                  NaN  "
            ],
            "text/html": [
              "\n",
              "  <div id=\"df-041d217d-ce0b-4a9c-95b5-c8339011c6ba\">\n",
              "    <div class=\"colab-df-container\">\n",
              "      <div>\n",
              "<style scoped>\n",
              "    .dataframe tbody tr th:only-of-type {\n",
              "        vertical-align: middle;\n",
              "    }\n",
              "\n",
              "    .dataframe tbody tr th {\n",
              "        vertical-align: top;\n",
              "    }\n",
              "\n",
              "    .dataframe thead th {\n",
              "        text-align: right;\n",
              "    }\n",
              "</style>\n",
              "<table border=\"1\" class=\"dataframe\">\n",
              "  <thead>\n",
              "    <tr style=\"text-align: right;\">\n",
              "      <th></th>\n",
              "      <th>code_module</th>\n",
              "      <th>code_presentation</th>\n",
              "      <th>id_student</th>\n",
              "      <th>date_registration</th>\n",
              "      <th>date_unregistration</th>\n",
              "    </tr>\n",
              "  </thead>\n",
              "  <tbody>\n",
              "    <tr>\n",
              "      <th>0</th>\n",
              "      <td>AAA</td>\n",
              "      <td>2013J</td>\n",
              "      <td>11391</td>\n",
              "      <td>-159.0</td>\n",
              "      <td>NaN</td>\n",
              "    </tr>\n",
              "    <tr>\n",
              "      <th>1</th>\n",
              "      <td>AAA</td>\n",
              "      <td>2013J</td>\n",
              "      <td>28400</td>\n",
              "      <td>-53.0</td>\n",
              "      <td>NaN</td>\n",
              "    </tr>\n",
              "    <tr>\n",
              "      <th>2</th>\n",
              "      <td>AAA</td>\n",
              "      <td>2013J</td>\n",
              "      <td>30268</td>\n",
              "      <td>-92.0</td>\n",
              "      <td>12.0</td>\n",
              "    </tr>\n",
              "    <tr>\n",
              "      <th>3</th>\n",
              "      <td>AAA</td>\n",
              "      <td>2013J</td>\n",
              "      <td>31604</td>\n",
              "      <td>-52.0</td>\n",
              "      <td>NaN</td>\n",
              "    </tr>\n",
              "    <tr>\n",
              "      <th>4</th>\n",
              "      <td>AAA</td>\n",
              "      <td>2013J</td>\n",
              "      <td>32885</td>\n",
              "      <td>-176.0</td>\n",
              "      <td>NaN</td>\n",
              "    </tr>\n",
              "  </tbody>\n",
              "</table>\n",
              "</div>\n",
              "      <button class=\"colab-df-convert\" onclick=\"convertToInteractive('df-041d217d-ce0b-4a9c-95b5-c8339011c6ba')\"\n",
              "              title=\"Convert this dataframe to an interactive table.\"\n",
              "              style=\"display:none;\">\n",
              "        \n",
              "  <svg xmlns=\"http://www.w3.org/2000/svg\" height=\"24px\"viewBox=\"0 0 24 24\"\n",
              "       width=\"24px\">\n",
              "    <path d=\"M0 0h24v24H0V0z\" fill=\"none\"/>\n",
              "    <path d=\"M18.56 5.44l.94 2.06.94-2.06 2.06-.94-2.06-.94-.94-2.06-.94 2.06-2.06.94zm-11 1L8.5 8.5l.94-2.06 2.06-.94-2.06-.94L8.5 2.5l-.94 2.06-2.06.94zm10 10l.94 2.06.94-2.06 2.06-.94-2.06-.94-.94-2.06-.94 2.06-2.06.94z\"/><path d=\"M17.41 7.96l-1.37-1.37c-.4-.4-.92-.59-1.43-.59-.52 0-1.04.2-1.43.59L10.3 9.45l-7.72 7.72c-.78.78-.78 2.05 0 2.83L4 21.41c.39.39.9.59 1.41.59.51 0 1.02-.2 1.41-.59l7.78-7.78 2.81-2.81c.8-.78.8-2.07 0-2.86zM5.41 20L4 18.59l7.72-7.72 1.47 1.35L5.41 20z\"/>\n",
              "  </svg>\n",
              "      </button>\n",
              "      \n",
              "  <style>\n",
              "    .colab-df-container {\n",
              "      display:flex;\n",
              "      flex-wrap:wrap;\n",
              "      gap: 12px;\n",
              "    }\n",
              "\n",
              "    .colab-df-convert {\n",
              "      background-color: #E8F0FE;\n",
              "      border: none;\n",
              "      border-radius: 50%;\n",
              "      cursor: pointer;\n",
              "      display: none;\n",
              "      fill: #1967D2;\n",
              "      height: 32px;\n",
              "      padding: 0 0 0 0;\n",
              "      width: 32px;\n",
              "    }\n",
              "\n",
              "    .colab-df-convert:hover {\n",
              "      background-color: #E2EBFA;\n",
              "      box-shadow: 0px 1px 2px rgba(60, 64, 67, 0.3), 0px 1px 3px 1px rgba(60, 64, 67, 0.15);\n",
              "      fill: #174EA6;\n",
              "    }\n",
              "\n",
              "    [theme=dark] .colab-df-convert {\n",
              "      background-color: #3B4455;\n",
              "      fill: #D2E3FC;\n",
              "    }\n",
              "\n",
              "    [theme=dark] .colab-df-convert:hover {\n",
              "      background-color: #434B5C;\n",
              "      box-shadow: 0px 1px 3px 1px rgba(0, 0, 0, 0.15);\n",
              "      filter: drop-shadow(0px 1px 2px rgba(0, 0, 0, 0.3));\n",
              "      fill: #FFFFFF;\n",
              "    }\n",
              "  </style>\n",
              "\n",
              "      <script>\n",
              "        const buttonEl =\n",
              "          document.querySelector('#df-041d217d-ce0b-4a9c-95b5-c8339011c6ba button.colab-df-convert');\n",
              "        buttonEl.style.display =\n",
              "          google.colab.kernel.accessAllowed ? 'block' : 'none';\n",
              "\n",
              "        async function convertToInteractive(key) {\n",
              "          const element = document.querySelector('#df-041d217d-ce0b-4a9c-95b5-c8339011c6ba');\n",
              "          const dataTable =\n",
              "            await google.colab.kernel.invokeFunction('convertToInteractive',\n",
              "                                                     [key], {});\n",
              "          if (!dataTable) return;\n",
              "\n",
              "          const docLinkHtml = 'Like what you see? Visit the ' +\n",
              "            '<a target=\"_blank\" href=https://colab.research.google.com/notebooks/data_table.ipynb>data table notebook</a>'\n",
              "            + ' to learn more about interactive tables.';\n",
              "          element.innerHTML = '';\n",
              "          dataTable['output_type'] = 'display_data';\n",
              "          await google.colab.output.renderOutput(dataTable, element);\n",
              "          const docLink = document.createElement('div');\n",
              "          docLink.innerHTML = docLinkHtml;\n",
              "          element.appendChild(docLink);\n",
              "        }\n",
              "      </script>\n",
              "    </div>\n",
              "  </div>\n",
              "  "
            ]
          },
          "metadata": {},
          "execution_count": 29
        }
      ],
      "source": [
        "studentRegistration.head()"
      ]
    },
    {
      "cell_type": "code",
      "execution_count": null,
      "metadata": {
        "colab": {
          "base_uri": "https://localhost:8080/"
        },
        "id": "WaeJR_iObLFF",
        "outputId": "3e35e0d7-4edc-4db3-97cd-6a0da8365c3f"
      },
      "outputs": [
        {
          "output_type": "stream",
          "name": "stdout",
          "text": [
            "<class 'pandas.core.frame.DataFrame'>\n",
            "RangeIndex: 32593 entries, 0 to 32592\n",
            "Data columns (total 5 columns):\n",
            " #   Column               Non-Null Count  Dtype  \n",
            "---  ------               --------------  -----  \n",
            " 0   code_module          32593 non-null  object \n",
            " 1   code_presentation    32593 non-null  object \n",
            " 2   id_student           32593 non-null  int64  \n",
            " 3   date_registration    32548 non-null  float64\n",
            " 4   date_unregistration  10072 non-null  float64\n",
            "dtypes: float64(2), int64(1), object(2)\n",
            "memory usage: 1.2+ MB\n"
          ]
        }
      ],
      "source": [
        "studentRegistration.info()"
      ]
    },
    {
      "cell_type": "markdown",
      "metadata": {
        "id": "QXjpLgX8bLFI"
      },
      "source": [
        "В четвертом датафрейме имеем 32593 строки (записи) и 5 колонок. В колонке date_registration 45 пропущенных значений, и в колонке date_unregistration -  22531 пропущенное значение. Для большинства записей, где отсутствует дата регистрации, имеется дата отмены регистрации, а также информация о сдаче теста (дата сдачи, оценка), из чего можем предположить, что регистрация состоялась, но не была заификсирована. С типами данных все в порядке, дублей нет. Датафрейм содержит информацию о 28785 студентах, которые зарегистрировались на один или более курсов (хотя дата регистрации имеется не для всех), тогда как до сдачи тестов добрались только 23369 студентов. 9052 студента отменили регистрацию на свои курсы (или часть курсов)."
      ]
    },
    {
      "cell_type": "markdown",
      "metadata": {
        "id": "EIgBkrWibLFI"
      },
      "source": [
        "_______________________________________________________________________________________________________________________________"
      ]
    },
    {
      "cell_type": "markdown",
      "metadata": {
        "id": "gnC9qlSrbLFJ"
      },
      "source": [
        "#### Подведем общий итог. Будем считать курсом некоторый набор тестов (для каждого курса он разный). Курсы могут повторяться из семестра в семестр. Информации о том, как рассчитывается оценка по курсу (то есть сколько тестов нужно сдать, чтобы курс считался пройденным, можно ли получить автомат, обязателен ли экзамен), нет. Но мы будем считать, что по каждому курсу обязательно нужно сдать экзамен, чтобы курс считался завершенным. Итого у нас есть 7 курсов (их названия соответствуют названиям предметов из датафрейма courses). "
      ]
    },
    {
      "cell_type": "markdown",
      "metadata": {
        "id": "soa8jg7ObLFJ"
      },
      "source": [
        "### Приступим к заданиям"
      ]
    },
    {
      "cell_type": "markdown",
      "source": [
        "Для выполнения заданий нам нужен датафрейм, содержащий информацию о курсах (assessments) и оценках (studentAssessment). Назовем его assessments_score."
      ],
      "metadata": {
        "id": "WV_p_ohphTAU"
      }
    },
    {
      "cell_type": "code",
      "source": [
        "assessments_score = assessments.merge(studentAssessment, on='id_assessment', how='right')"
      ],
      "metadata": {
        "id": "nFSuH75hhnlG",
        "colab": {
          "base_uri": "https://localhost:8080/"
        },
        "outputId": "464a1561-39ab-4316-b0d9-158487cf1127"
      },
      "execution_count": 144,
      "outputs": [
        {
          "output_type": "stream",
          "name": "stderr",
          "text": [
            "INFO:pycodestyle:1:80: E501 line too long (89 > 79 characters)\n"
          ]
        }
      ]
    },
    {
      "cell_type": "markdown",
      "metadata": {
        "id": "cCELeyP-bLFJ"
      },
      "source": [
        "###### Задание 1. Сколько студентов успешно* сдали только один курс? \n",
        "\n",
        "*Успешная сдача — это зачёт по курсу на экзамене"
      ]
    },
    {
      "cell_type": "markdown",
      "metadata": {
        "id": "iKBe-yu_bLFJ"
      },
      "source": [
        "Отберем только те записи из датафрейма assessments_score, в которых тип оценивания - это экзамен, оценка больше 40 (успешная сдача), а затем только тех студентов, у которых была одна сдача. Таким образом получим список студентов, которые сдали успешно только один курс."
      ]
    },
    {
      "cell_type": "code",
      "execution_count": 145,
      "metadata": {
        "colab": {
          "base_uri": "https://localhost:8080/",
          "height": 424
        },
        "id": "FZqzn0-4bLFJ",
        "outputId": "5fb9a21a-75dd-41cd-dfcd-2db03498dbe9"
      },
      "outputs": [
        {
          "output_type": "execute_result",
          "data": {
            "text/plain": [
              "      id_student  size\n",
              "0          23698     1\n",
              "1          24213     1\n",
              "2          27116     1\n",
              "3          28046     1\n",
              "4          28787     1\n",
              "...          ...   ...\n",
              "4092     2694886     1\n",
              "4093     2694933     1\n",
              "4094     2695608     1\n",
              "4095     2697181     1\n",
              "4096     2698251     1\n",
              "\n",
              "[3802 rows x 2 columns]"
            ],
            "text/html": [
              "\n",
              "  <div id=\"df-a3c61e22-b4bf-4d16-9796-7b268278fe97\">\n",
              "    <div class=\"colab-df-container\">\n",
              "      <div>\n",
              "<style scoped>\n",
              "    .dataframe tbody tr th:only-of-type {\n",
              "        vertical-align: middle;\n",
              "    }\n",
              "\n",
              "    .dataframe tbody tr th {\n",
              "        vertical-align: top;\n",
              "    }\n",
              "\n",
              "    .dataframe thead th {\n",
              "        text-align: right;\n",
              "    }\n",
              "</style>\n",
              "<table border=\"1\" class=\"dataframe\">\n",
              "  <thead>\n",
              "    <tr style=\"text-align: right;\">\n",
              "      <th></th>\n",
              "      <th>id_student</th>\n",
              "      <th>size</th>\n",
              "    </tr>\n",
              "  </thead>\n",
              "  <tbody>\n",
              "    <tr>\n",
              "      <th>0</th>\n",
              "      <td>23698</td>\n",
              "      <td>1</td>\n",
              "    </tr>\n",
              "    <tr>\n",
              "      <th>1</th>\n",
              "      <td>24213</td>\n",
              "      <td>1</td>\n",
              "    </tr>\n",
              "    <tr>\n",
              "      <th>2</th>\n",
              "      <td>27116</td>\n",
              "      <td>1</td>\n",
              "    </tr>\n",
              "    <tr>\n",
              "      <th>3</th>\n",
              "      <td>28046</td>\n",
              "      <td>1</td>\n",
              "    </tr>\n",
              "    <tr>\n",
              "      <th>4</th>\n",
              "      <td>28787</td>\n",
              "      <td>1</td>\n",
              "    </tr>\n",
              "    <tr>\n",
              "      <th>...</th>\n",
              "      <td>...</td>\n",
              "      <td>...</td>\n",
              "    </tr>\n",
              "    <tr>\n",
              "      <th>4092</th>\n",
              "      <td>2694886</td>\n",
              "      <td>1</td>\n",
              "    </tr>\n",
              "    <tr>\n",
              "      <th>4093</th>\n",
              "      <td>2694933</td>\n",
              "      <td>1</td>\n",
              "    </tr>\n",
              "    <tr>\n",
              "      <th>4094</th>\n",
              "      <td>2695608</td>\n",
              "      <td>1</td>\n",
              "    </tr>\n",
              "    <tr>\n",
              "      <th>4095</th>\n",
              "      <td>2697181</td>\n",
              "      <td>1</td>\n",
              "    </tr>\n",
              "    <tr>\n",
              "      <th>4096</th>\n",
              "      <td>2698251</td>\n",
              "      <td>1</td>\n",
              "    </tr>\n",
              "  </tbody>\n",
              "</table>\n",
              "<p>3802 rows × 2 columns</p>\n",
              "</div>\n",
              "      <button class=\"colab-df-convert\" onclick=\"convertToInteractive('df-a3c61e22-b4bf-4d16-9796-7b268278fe97')\"\n",
              "              title=\"Convert this dataframe to an interactive table.\"\n",
              "              style=\"display:none;\">\n",
              "        \n",
              "  <svg xmlns=\"http://www.w3.org/2000/svg\" height=\"24px\"viewBox=\"0 0 24 24\"\n",
              "       width=\"24px\">\n",
              "    <path d=\"M0 0h24v24H0V0z\" fill=\"none\"/>\n",
              "    <path d=\"M18.56 5.44l.94 2.06.94-2.06 2.06-.94-2.06-.94-.94-2.06-.94 2.06-2.06.94zm-11 1L8.5 8.5l.94-2.06 2.06-.94-2.06-.94L8.5 2.5l-.94 2.06-2.06.94zm10 10l.94 2.06.94-2.06 2.06-.94-2.06-.94-.94-2.06-.94 2.06-2.06.94z\"/><path d=\"M17.41 7.96l-1.37-1.37c-.4-.4-.92-.59-1.43-.59-.52 0-1.04.2-1.43.59L10.3 9.45l-7.72 7.72c-.78.78-.78 2.05 0 2.83L4 21.41c.39.39.9.59 1.41.59.51 0 1.02-.2 1.41-.59l7.78-7.78 2.81-2.81c.8-.78.8-2.07 0-2.86zM5.41 20L4 18.59l7.72-7.72 1.47 1.35L5.41 20z\"/>\n",
              "  </svg>\n",
              "      </button>\n",
              "      \n",
              "  <style>\n",
              "    .colab-df-container {\n",
              "      display:flex;\n",
              "      flex-wrap:wrap;\n",
              "      gap: 12px;\n",
              "    }\n",
              "\n",
              "    .colab-df-convert {\n",
              "      background-color: #E8F0FE;\n",
              "      border: none;\n",
              "      border-radius: 50%;\n",
              "      cursor: pointer;\n",
              "      display: none;\n",
              "      fill: #1967D2;\n",
              "      height: 32px;\n",
              "      padding: 0 0 0 0;\n",
              "      width: 32px;\n",
              "    }\n",
              "\n",
              "    .colab-df-convert:hover {\n",
              "      background-color: #E2EBFA;\n",
              "      box-shadow: 0px 1px 2px rgba(60, 64, 67, 0.3), 0px 1px 3px 1px rgba(60, 64, 67, 0.15);\n",
              "      fill: #174EA6;\n",
              "    }\n",
              "\n",
              "    [theme=dark] .colab-df-convert {\n",
              "      background-color: #3B4455;\n",
              "      fill: #D2E3FC;\n",
              "    }\n",
              "\n",
              "    [theme=dark] .colab-df-convert:hover {\n",
              "      background-color: #434B5C;\n",
              "      box-shadow: 0px 1px 3px 1px rgba(0, 0, 0, 0.15);\n",
              "      filter: drop-shadow(0px 1px 2px rgba(0, 0, 0, 0.3));\n",
              "      fill: #FFFFFF;\n",
              "    }\n",
              "  </style>\n",
              "\n",
              "      <script>\n",
              "        const buttonEl =\n",
              "          document.querySelector('#df-a3c61e22-b4bf-4d16-9796-7b268278fe97 button.colab-df-convert');\n",
              "        buttonEl.style.display =\n",
              "          google.colab.kernel.accessAllowed ? 'block' : 'none';\n",
              "\n",
              "        async function convertToInteractive(key) {\n",
              "          const element = document.querySelector('#df-a3c61e22-b4bf-4d16-9796-7b268278fe97');\n",
              "          const dataTable =\n",
              "            await google.colab.kernel.invokeFunction('convertToInteractive',\n",
              "                                                     [key], {});\n",
              "          if (!dataTable) return;\n",
              "\n",
              "          const docLinkHtml = 'Like what you see? Visit the ' +\n",
              "            '<a target=\"_blank\" href=https://colab.research.google.com/notebooks/data_table.ipynb>data table notebook</a>'\n",
              "            + ' to learn more about interactive tables.';\n",
              "          element.innerHTML = '';\n",
              "          dataTable['output_type'] = 'display_data';\n",
              "          await google.colab.output.renderOutput(dataTable, element);\n",
              "          const docLink = document.createElement('div');\n",
              "          docLink.innerHTML = docLinkHtml;\n",
              "          element.appendChild(docLink);\n",
              "        }\n",
              "      </script>\n",
              "    </div>\n",
              "  </div>\n",
              "  "
            ]
          },
          "metadata": {},
          "execution_count": 145
        }
      ],
      "source": [
        "assessments_score \\\n",
        "    .query('assessment_type == \"Exam\" and score >= 40 and is_banked == 0') \\\n",
        "    .groupby('id_student', as_index=False) \\\n",
        "    .size() \\\n",
        "    .query('size == 1')"
      ]
    },
    {
      "cell_type": "markdown",
      "metadata": {
        "id": "XtIuP-6-bLFJ"
      },
      "source": [
        "Мы не знаем, можно ли сдавать один и тот же курс повторно не для пересдачи плохой оценки, а для повышения положительной. Проверим, имеются ли у нас такие записи. Отфильтруем ранее созданный датафрейм assessments_score (тип оценивания - экзамен, успешная сдача), затем сгруппируем по id студента и предмету и отберем только те записи, где успешных сдач по предмету больше 1. "
      ]
    },
    {
      "cell_type": "code",
      "execution_count": 147,
      "metadata": {
        "colab": {
          "base_uri": "https://localhost:8080/"
        },
        "id": "wq-yA8s3bLFJ",
        "outputId": "2767f24a-4f0e-45ef-d63e-4c2412f37e2b"
      },
      "outputs": [
        {
          "output_type": "execute_result",
          "data": {
            "text/plain": [
              "1341    540758\n",
              "2232    593903\n",
              "2479    605118\n",
              "Name: id_student, dtype: int64"
            ]
          },
          "metadata": {},
          "execution_count": 147
        }
      ],
      "source": [
        "assessments_score \\\n",
        "    .query('assessment_type == \"Exam\" and score >= 40') \\\n",
        "    .groupby(['id_student', 'code_module'], as_index=False) \\\n",
        "    .code_module \\\n",
        "    .count() \\\n",
        "    .query('code_module > 1') \\\n",
        "    .id_student"
      ]
    },
    {
      "cell_type": "markdown",
      "metadata": {
        "id": "AfpgrTWrbLFK"
      },
      "source": [
        "У нас есть три студента, которые пересдавали курс. Вероятно, они делали это для получения более высокого балла.\n",
        "\n",
        "Из 23369 студентов, которые изучали курсы, только 3805 успешно сдали экзамены. Это немного. Посмотрим, какие предметы сдавали студенты."
      ]
    },
    {
      "cell_type": "code",
      "execution_count": 148,
      "metadata": {
        "colab": {
          "base_uri": "https://localhost:8080/",
          "height": 112
        },
        "id": "MTJcRgAabLFK",
        "outputId": "caccb506-5581-43d4-9cdb-0e5d4c6addc2"
      },
      "outputs": [
        {
          "output_type": "execute_result",
          "data": {
            "text/plain": [
              "  code_module  size\n",
              "0         CCC  1915\n",
              "1         DDD  3044"
            ],
            "text/html": [
              "\n",
              "  <div id=\"df-28a97299-5bbc-466d-b5ff-e6ce6087a302\">\n",
              "    <div class=\"colab-df-container\">\n",
              "      <div>\n",
              "<style scoped>\n",
              "    .dataframe tbody tr th:only-of-type {\n",
              "        vertical-align: middle;\n",
              "    }\n",
              "\n",
              "    .dataframe tbody tr th {\n",
              "        vertical-align: top;\n",
              "    }\n",
              "\n",
              "    .dataframe thead th {\n",
              "        text-align: right;\n",
              "    }\n",
              "</style>\n",
              "<table border=\"1\" class=\"dataframe\">\n",
              "  <thead>\n",
              "    <tr style=\"text-align: right;\">\n",
              "      <th></th>\n",
              "      <th>code_module</th>\n",
              "      <th>size</th>\n",
              "    </tr>\n",
              "  </thead>\n",
              "  <tbody>\n",
              "    <tr>\n",
              "      <th>0</th>\n",
              "      <td>CCC</td>\n",
              "      <td>1915</td>\n",
              "    </tr>\n",
              "    <tr>\n",
              "      <th>1</th>\n",
              "      <td>DDD</td>\n",
              "      <td>3044</td>\n",
              "    </tr>\n",
              "  </tbody>\n",
              "</table>\n",
              "</div>\n",
              "      <button class=\"colab-df-convert\" onclick=\"convertToInteractive('df-28a97299-5bbc-466d-b5ff-e6ce6087a302')\"\n",
              "              title=\"Convert this dataframe to an interactive table.\"\n",
              "              style=\"display:none;\">\n",
              "        \n",
              "  <svg xmlns=\"http://www.w3.org/2000/svg\" height=\"24px\"viewBox=\"0 0 24 24\"\n",
              "       width=\"24px\">\n",
              "    <path d=\"M0 0h24v24H0V0z\" fill=\"none\"/>\n",
              "    <path d=\"M18.56 5.44l.94 2.06.94-2.06 2.06-.94-2.06-.94-.94-2.06-.94 2.06-2.06.94zm-11 1L8.5 8.5l.94-2.06 2.06-.94-2.06-.94L8.5 2.5l-.94 2.06-2.06.94zm10 10l.94 2.06.94-2.06 2.06-.94-2.06-.94-.94-2.06-.94 2.06-2.06.94z\"/><path d=\"M17.41 7.96l-1.37-1.37c-.4-.4-.92-.59-1.43-.59-.52 0-1.04.2-1.43.59L10.3 9.45l-7.72 7.72c-.78.78-.78 2.05 0 2.83L4 21.41c.39.39.9.59 1.41.59.51 0 1.02-.2 1.41-.59l7.78-7.78 2.81-2.81c.8-.78.8-2.07 0-2.86zM5.41 20L4 18.59l7.72-7.72 1.47 1.35L5.41 20z\"/>\n",
              "  </svg>\n",
              "      </button>\n",
              "      \n",
              "  <style>\n",
              "    .colab-df-container {\n",
              "      display:flex;\n",
              "      flex-wrap:wrap;\n",
              "      gap: 12px;\n",
              "    }\n",
              "\n",
              "    .colab-df-convert {\n",
              "      background-color: #E8F0FE;\n",
              "      border: none;\n",
              "      border-radius: 50%;\n",
              "      cursor: pointer;\n",
              "      display: none;\n",
              "      fill: #1967D2;\n",
              "      height: 32px;\n",
              "      padding: 0 0 0 0;\n",
              "      width: 32px;\n",
              "    }\n",
              "\n",
              "    .colab-df-convert:hover {\n",
              "      background-color: #E2EBFA;\n",
              "      box-shadow: 0px 1px 2px rgba(60, 64, 67, 0.3), 0px 1px 3px 1px rgba(60, 64, 67, 0.15);\n",
              "      fill: #174EA6;\n",
              "    }\n",
              "\n",
              "    [theme=dark] .colab-df-convert {\n",
              "      background-color: #3B4455;\n",
              "      fill: #D2E3FC;\n",
              "    }\n",
              "\n",
              "    [theme=dark] .colab-df-convert:hover {\n",
              "      background-color: #434B5C;\n",
              "      box-shadow: 0px 1px 3px 1px rgba(0, 0, 0, 0.15);\n",
              "      filter: drop-shadow(0px 1px 2px rgba(0, 0, 0, 0.3));\n",
              "      fill: #FFFFFF;\n",
              "    }\n",
              "  </style>\n",
              "\n",
              "      <script>\n",
              "        const buttonEl =\n",
              "          document.querySelector('#df-28a97299-5bbc-466d-b5ff-e6ce6087a302 button.colab-df-convert');\n",
              "        buttonEl.style.display =\n",
              "          google.colab.kernel.accessAllowed ? 'block' : 'none';\n",
              "\n",
              "        async function convertToInteractive(key) {\n",
              "          const element = document.querySelector('#df-28a97299-5bbc-466d-b5ff-e6ce6087a302');\n",
              "          const dataTable =\n",
              "            await google.colab.kernel.invokeFunction('convertToInteractive',\n",
              "                                                     [key], {});\n",
              "          if (!dataTable) return;\n",
              "\n",
              "          const docLinkHtml = 'Like what you see? Visit the ' +\n",
              "            '<a target=\"_blank\" href=https://colab.research.google.com/notebooks/data_table.ipynb>data table notebook</a>'\n",
              "            + ' to learn more about interactive tables.';\n",
              "          element.innerHTML = '';\n",
              "          dataTable['output_type'] = 'display_data';\n",
              "          await google.colab.output.renderOutput(dataTable, element);\n",
              "          const docLink = document.createElement('div');\n",
              "          docLink.innerHTML = docLinkHtml;\n",
              "          element.appendChild(docLink);\n",
              "        }\n",
              "      </script>\n",
              "    </div>\n",
              "  </div>\n",
              "  "
            ]
          },
          "metadata": {},
          "execution_count": 148
        }
      ],
      "source": [
        "assessments_score \\\n",
        "    .query('assessment_type == \"Exam\"') \\\n",
        "    .groupby('code_module', as_index=False) \\\n",
        "    .size()"
      ]
    },
    {
      "cell_type": "markdown",
      "metadata": {
        "id": "UUcKOmCubLFK"
      },
      "source": [
        "По каким-то причинам в датафрейм studentAssessment попали сдачи экзаменов по двум предметам из семи. Поскольку мы не знаем, по каким причинам по другим предметам экзамены не сдавались (либо информация о сдаче не попала в датафрейм, мы не можем считать, что студенты сдали другие курсы без экзамена."
      ]
    },
    {
      "cell_type": "markdown",
      "metadata": {
        "id": "KI6VCHIEbLFK"
      },
      "source": [
        "##### Ответ на задание 1: \n",
        "\n",
        "3802 студента успешно сдали только один курс, еще 3 студента успешно сдали один курс два раза."
      ]
    },
    {
      "cell_type": "markdown",
      "metadata": {
        "id": "bCHXR8xebLFK"
      },
      "source": [
        "###### Задание 2. Выяви самый сложный и самый простой экзамен: найди курсы и экзамены в рамках курса, которые обладают самой низкой и самой высокой завершаемостью*.\n",
        "\n",
        "*Завершаемость = кол-во успешных экзаменов / кол-во всех попыток сдать экзамен"
      ]
    },
    {
      "cell_type": "markdown",
      "metadata": {
        "id": "G9cmd2ZJbLFK"
      },
      "source": [
        "Добавим в датафрейм assessments_score колонку passed (где 1 - тест сдан, 0 - не сдан)."
      ]
    },
    {
      "cell_type": "code",
      "execution_count": 149,
      "metadata": {
        "colab": {
          "base_uri": "https://localhost:8080/"
        },
        "id": "g74nnMsabLFK",
        "outputId": "c489dd6c-3d3d-4b96-ce1a-f5c5281199af"
      },
      "outputs": [
        {
          "output_type": "stream",
          "name": "stderr",
          "text": [
            "INFO:pycodestyle:1:80: E501 line too long (90 > 79 characters)\n"
          ]
        }
      ],
      "source": [
        "assessments_score['passed'] = assessments_score.score.apply(lambda x: 1 if x >= 40 else 0)"
      ]
    },
    {
      "cell_type": "code",
      "execution_count": 150,
      "metadata": {
        "colab": {
          "base_uri": "https://localhost:8080/",
          "height": 206
        },
        "id": "9T1-5SK8bLFK",
        "outputId": "85704800-fca1-401d-cff8-1cb3fbe33f1e"
      },
      "outputs": [
        {
          "output_type": "execute_result",
          "data": {
            "text/plain": [
              "  code_module code_presentation  id_assessment assessment_type  date  weight  \\\n",
              "0         AAA             2013J           1752             TMA  19.0    10.0   \n",
              "1         AAA             2013J           1752             TMA  19.0    10.0   \n",
              "2         AAA             2013J           1752             TMA  19.0    10.0   \n",
              "3         AAA             2013J           1752             TMA  19.0    10.0   \n",
              "4         AAA             2013J           1752             TMA  19.0    10.0   \n",
              "\n",
              "   id_student  date_submitted  is_banked  score  passed  \n",
              "0       11391              18          0   78.0       1  \n",
              "1       28400              22          0   70.0       1  \n",
              "2       31604              17          0   72.0       1  \n",
              "3       32885              26          0   69.0       1  \n",
              "4       38053              19          0   79.0       1  "
            ],
            "text/html": [
              "\n",
              "  <div id=\"df-aba8fe9d-fe62-4785-8441-c0959665895f\">\n",
              "    <div class=\"colab-df-container\">\n",
              "      <div>\n",
              "<style scoped>\n",
              "    .dataframe tbody tr th:only-of-type {\n",
              "        vertical-align: middle;\n",
              "    }\n",
              "\n",
              "    .dataframe tbody tr th {\n",
              "        vertical-align: top;\n",
              "    }\n",
              "\n",
              "    .dataframe thead th {\n",
              "        text-align: right;\n",
              "    }\n",
              "</style>\n",
              "<table border=\"1\" class=\"dataframe\">\n",
              "  <thead>\n",
              "    <tr style=\"text-align: right;\">\n",
              "      <th></th>\n",
              "      <th>code_module</th>\n",
              "      <th>code_presentation</th>\n",
              "      <th>id_assessment</th>\n",
              "      <th>assessment_type</th>\n",
              "      <th>date</th>\n",
              "      <th>weight</th>\n",
              "      <th>id_student</th>\n",
              "      <th>date_submitted</th>\n",
              "      <th>is_banked</th>\n",
              "      <th>score</th>\n",
              "      <th>passed</th>\n",
              "    </tr>\n",
              "  </thead>\n",
              "  <tbody>\n",
              "    <tr>\n",
              "      <th>0</th>\n",
              "      <td>AAA</td>\n",
              "      <td>2013J</td>\n",
              "      <td>1752</td>\n",
              "      <td>TMA</td>\n",
              "      <td>19.0</td>\n",
              "      <td>10.0</td>\n",
              "      <td>11391</td>\n",
              "      <td>18</td>\n",
              "      <td>0</td>\n",
              "      <td>78.0</td>\n",
              "      <td>1</td>\n",
              "    </tr>\n",
              "    <tr>\n",
              "      <th>1</th>\n",
              "      <td>AAA</td>\n",
              "      <td>2013J</td>\n",
              "      <td>1752</td>\n",
              "      <td>TMA</td>\n",
              "      <td>19.0</td>\n",
              "      <td>10.0</td>\n",
              "      <td>28400</td>\n",
              "      <td>22</td>\n",
              "      <td>0</td>\n",
              "      <td>70.0</td>\n",
              "      <td>1</td>\n",
              "    </tr>\n",
              "    <tr>\n",
              "      <th>2</th>\n",
              "      <td>AAA</td>\n",
              "      <td>2013J</td>\n",
              "      <td>1752</td>\n",
              "      <td>TMA</td>\n",
              "      <td>19.0</td>\n",
              "      <td>10.0</td>\n",
              "      <td>31604</td>\n",
              "      <td>17</td>\n",
              "      <td>0</td>\n",
              "      <td>72.0</td>\n",
              "      <td>1</td>\n",
              "    </tr>\n",
              "    <tr>\n",
              "      <th>3</th>\n",
              "      <td>AAA</td>\n",
              "      <td>2013J</td>\n",
              "      <td>1752</td>\n",
              "      <td>TMA</td>\n",
              "      <td>19.0</td>\n",
              "      <td>10.0</td>\n",
              "      <td>32885</td>\n",
              "      <td>26</td>\n",
              "      <td>0</td>\n",
              "      <td>69.0</td>\n",
              "      <td>1</td>\n",
              "    </tr>\n",
              "    <tr>\n",
              "      <th>4</th>\n",
              "      <td>AAA</td>\n",
              "      <td>2013J</td>\n",
              "      <td>1752</td>\n",
              "      <td>TMA</td>\n",
              "      <td>19.0</td>\n",
              "      <td>10.0</td>\n",
              "      <td>38053</td>\n",
              "      <td>19</td>\n",
              "      <td>0</td>\n",
              "      <td>79.0</td>\n",
              "      <td>1</td>\n",
              "    </tr>\n",
              "  </tbody>\n",
              "</table>\n",
              "</div>\n",
              "      <button class=\"colab-df-convert\" onclick=\"convertToInteractive('df-aba8fe9d-fe62-4785-8441-c0959665895f')\"\n",
              "              title=\"Convert this dataframe to an interactive table.\"\n",
              "              style=\"display:none;\">\n",
              "        \n",
              "  <svg xmlns=\"http://www.w3.org/2000/svg\" height=\"24px\"viewBox=\"0 0 24 24\"\n",
              "       width=\"24px\">\n",
              "    <path d=\"M0 0h24v24H0V0z\" fill=\"none\"/>\n",
              "    <path d=\"M18.56 5.44l.94 2.06.94-2.06 2.06-.94-2.06-.94-.94-2.06-.94 2.06-2.06.94zm-11 1L8.5 8.5l.94-2.06 2.06-.94-2.06-.94L8.5 2.5l-.94 2.06-2.06.94zm10 10l.94 2.06.94-2.06 2.06-.94-2.06-.94-.94-2.06-.94 2.06-2.06.94z\"/><path d=\"M17.41 7.96l-1.37-1.37c-.4-.4-.92-.59-1.43-.59-.52 0-1.04.2-1.43.59L10.3 9.45l-7.72 7.72c-.78.78-.78 2.05 0 2.83L4 21.41c.39.39.9.59 1.41.59.51 0 1.02-.2 1.41-.59l7.78-7.78 2.81-2.81c.8-.78.8-2.07 0-2.86zM5.41 20L4 18.59l7.72-7.72 1.47 1.35L5.41 20z\"/>\n",
              "  </svg>\n",
              "      </button>\n",
              "      \n",
              "  <style>\n",
              "    .colab-df-container {\n",
              "      display:flex;\n",
              "      flex-wrap:wrap;\n",
              "      gap: 12px;\n",
              "    }\n",
              "\n",
              "    .colab-df-convert {\n",
              "      background-color: #E8F0FE;\n",
              "      border: none;\n",
              "      border-radius: 50%;\n",
              "      cursor: pointer;\n",
              "      display: none;\n",
              "      fill: #1967D2;\n",
              "      height: 32px;\n",
              "      padding: 0 0 0 0;\n",
              "      width: 32px;\n",
              "    }\n",
              "\n",
              "    .colab-df-convert:hover {\n",
              "      background-color: #E2EBFA;\n",
              "      box-shadow: 0px 1px 2px rgba(60, 64, 67, 0.3), 0px 1px 3px 1px rgba(60, 64, 67, 0.15);\n",
              "      fill: #174EA6;\n",
              "    }\n",
              "\n",
              "    [theme=dark] .colab-df-convert {\n",
              "      background-color: #3B4455;\n",
              "      fill: #D2E3FC;\n",
              "    }\n",
              "\n",
              "    [theme=dark] .colab-df-convert:hover {\n",
              "      background-color: #434B5C;\n",
              "      box-shadow: 0px 1px 3px 1px rgba(0, 0, 0, 0.15);\n",
              "      filter: drop-shadow(0px 1px 2px rgba(0, 0, 0, 0.3));\n",
              "      fill: #FFFFFF;\n",
              "    }\n",
              "  </style>\n",
              "\n",
              "      <script>\n",
              "        const buttonEl =\n",
              "          document.querySelector('#df-aba8fe9d-fe62-4785-8441-c0959665895f button.colab-df-convert');\n",
              "        buttonEl.style.display =\n",
              "          google.colab.kernel.accessAllowed ? 'block' : 'none';\n",
              "\n",
              "        async function convertToInteractive(key) {\n",
              "          const element = document.querySelector('#df-aba8fe9d-fe62-4785-8441-c0959665895f');\n",
              "          const dataTable =\n",
              "            await google.colab.kernel.invokeFunction('convertToInteractive',\n",
              "                                                     [key], {});\n",
              "          if (!dataTable) return;\n",
              "\n",
              "          const docLinkHtml = 'Like what you see? Visit the ' +\n",
              "            '<a target=\"_blank\" href=https://colab.research.google.com/notebooks/data_table.ipynb>data table notebook</a>'\n",
              "            + ' to learn more about interactive tables.';\n",
              "          element.innerHTML = '';\n",
              "          dataTable['output_type'] = 'display_data';\n",
              "          await google.colab.output.renderOutput(dataTable, element);\n",
              "          const docLink = document.createElement('div');\n",
              "          docLink.innerHTML = docLinkHtml;\n",
              "          element.appendChild(docLink);\n",
              "        }\n",
              "      </script>\n",
              "    </div>\n",
              "  </div>\n",
              "  "
            ]
          },
          "metadata": {},
          "execution_count": 150
        }
      ],
      "source": [
        "assessments_score.head()"
      ]
    },
    {
      "cell_type": "markdown",
      "metadata": {
        "id": "c6pG00qnbLFK"
      },
      "source": [
        "Для каждого экзамена посчитаем процент сдачи (для этого посчитаем среднее значение по колонке passed) и запишем результат в отдельную переменную."
      ]
    },
    {
      "cell_type": "code",
      "execution_count": 151,
      "metadata": {
        "colab": {
          "base_uri": "https://localhost:8080/"
        },
        "id": "w_QMzYjlbLFL",
        "outputId": "bdbd7c31-5f6b-455e-df74-67de9540caa9"
      },
      "outputs": [
        {
          "output_type": "execute_result",
          "data": {
            "text/plain": [
              "id_assessment\n",
              "24290    88.89\n",
              "24299    87.24\n",
              "25340    83.72\n",
              "25354    90.70\n",
              "25361    92.56\n",
              "25368    88.63\n",
              "Name: passed, dtype: float64"
            ]
          },
          "metadata": {},
          "execution_count": 151
        }
      ],
      "source": [
        "rating = assessments_score \\\n",
        "    .query('assessment_type == \"Exam\" and is_banked == 0') \\\n",
        "    .groupby('id_assessment') \\\n",
        "    .passed \\\n",
        "    .mean() \\\n",
        "    .mul(100) \\\n",
        "    .round(2)\n",
        "\n",
        "rating"
      ]
    },
    {
      "cell_type": "markdown",
      "metadata": {
        "id": "qdbky0TNbLFL"
      },
      "source": [
        "Посмотрим, какой экзамен было проще всего сдать."
      ]
    },
    {
      "cell_type": "code",
      "execution_count": 152,
      "metadata": {
        "colab": {
          "base_uri": "https://localhost:8080/",
          "height": 81
        },
        "id": "HYT4NAqzbLFL",
        "outputId": "5c6ed08c-304f-4e35-bd69-0696c686db12"
      },
      "outputs": [
        {
          "output_type": "execute_result",
          "data": {
            "text/plain": [
              "    code_module code_presentation  id_assessment assessment_type   date  \\\n",
              "101         DDD             2014B          25361            Exam  241.0   \n",
              "\n",
              "     weight  \n",
              "101   100.0  "
            ],
            "text/html": [
              "\n",
              "  <div id=\"df-0e4edbb0-cf99-428e-8faa-26fda85ee3e3\">\n",
              "    <div class=\"colab-df-container\">\n",
              "      <div>\n",
              "<style scoped>\n",
              "    .dataframe tbody tr th:only-of-type {\n",
              "        vertical-align: middle;\n",
              "    }\n",
              "\n",
              "    .dataframe tbody tr th {\n",
              "        vertical-align: top;\n",
              "    }\n",
              "\n",
              "    .dataframe thead th {\n",
              "        text-align: right;\n",
              "    }\n",
              "</style>\n",
              "<table border=\"1\" class=\"dataframe\">\n",
              "  <thead>\n",
              "    <tr style=\"text-align: right;\">\n",
              "      <th></th>\n",
              "      <th>code_module</th>\n",
              "      <th>code_presentation</th>\n",
              "      <th>id_assessment</th>\n",
              "      <th>assessment_type</th>\n",
              "      <th>date</th>\n",
              "      <th>weight</th>\n",
              "    </tr>\n",
              "  </thead>\n",
              "  <tbody>\n",
              "    <tr>\n",
              "      <th>101</th>\n",
              "      <td>DDD</td>\n",
              "      <td>2014B</td>\n",
              "      <td>25361</td>\n",
              "      <td>Exam</td>\n",
              "      <td>241.0</td>\n",
              "      <td>100.0</td>\n",
              "    </tr>\n",
              "  </tbody>\n",
              "</table>\n",
              "</div>\n",
              "      <button class=\"colab-df-convert\" onclick=\"convertToInteractive('df-0e4edbb0-cf99-428e-8faa-26fda85ee3e3')\"\n",
              "              title=\"Convert this dataframe to an interactive table.\"\n",
              "              style=\"display:none;\">\n",
              "        \n",
              "  <svg xmlns=\"http://www.w3.org/2000/svg\" height=\"24px\"viewBox=\"0 0 24 24\"\n",
              "       width=\"24px\">\n",
              "    <path d=\"M0 0h24v24H0V0z\" fill=\"none\"/>\n",
              "    <path d=\"M18.56 5.44l.94 2.06.94-2.06 2.06-.94-2.06-.94-.94-2.06-.94 2.06-2.06.94zm-11 1L8.5 8.5l.94-2.06 2.06-.94-2.06-.94L8.5 2.5l-.94 2.06-2.06.94zm10 10l.94 2.06.94-2.06 2.06-.94-2.06-.94-.94-2.06-.94 2.06-2.06.94z\"/><path d=\"M17.41 7.96l-1.37-1.37c-.4-.4-.92-.59-1.43-.59-.52 0-1.04.2-1.43.59L10.3 9.45l-7.72 7.72c-.78.78-.78 2.05 0 2.83L4 21.41c.39.39.9.59 1.41.59.51 0 1.02-.2 1.41-.59l7.78-7.78 2.81-2.81c.8-.78.8-2.07 0-2.86zM5.41 20L4 18.59l7.72-7.72 1.47 1.35L5.41 20z\"/>\n",
              "  </svg>\n",
              "      </button>\n",
              "      \n",
              "  <style>\n",
              "    .colab-df-container {\n",
              "      display:flex;\n",
              "      flex-wrap:wrap;\n",
              "      gap: 12px;\n",
              "    }\n",
              "\n",
              "    .colab-df-convert {\n",
              "      background-color: #E8F0FE;\n",
              "      border: none;\n",
              "      border-radius: 50%;\n",
              "      cursor: pointer;\n",
              "      display: none;\n",
              "      fill: #1967D2;\n",
              "      height: 32px;\n",
              "      padding: 0 0 0 0;\n",
              "      width: 32px;\n",
              "    }\n",
              "\n",
              "    .colab-df-convert:hover {\n",
              "      background-color: #E2EBFA;\n",
              "      box-shadow: 0px 1px 2px rgba(60, 64, 67, 0.3), 0px 1px 3px 1px rgba(60, 64, 67, 0.15);\n",
              "      fill: #174EA6;\n",
              "    }\n",
              "\n",
              "    [theme=dark] .colab-df-convert {\n",
              "      background-color: #3B4455;\n",
              "      fill: #D2E3FC;\n",
              "    }\n",
              "\n",
              "    [theme=dark] .colab-df-convert:hover {\n",
              "      background-color: #434B5C;\n",
              "      box-shadow: 0px 1px 3px 1px rgba(0, 0, 0, 0.15);\n",
              "      filter: drop-shadow(0px 1px 2px rgba(0, 0, 0, 0.3));\n",
              "      fill: #FFFFFF;\n",
              "    }\n",
              "  </style>\n",
              "\n",
              "      <script>\n",
              "        const buttonEl =\n",
              "          document.querySelector('#df-0e4edbb0-cf99-428e-8faa-26fda85ee3e3 button.colab-df-convert');\n",
              "        buttonEl.style.display =\n",
              "          google.colab.kernel.accessAllowed ? 'block' : 'none';\n",
              "\n",
              "        async function convertToInteractive(key) {\n",
              "          const element = document.querySelector('#df-0e4edbb0-cf99-428e-8faa-26fda85ee3e3');\n",
              "          const dataTable =\n",
              "            await google.colab.kernel.invokeFunction('convertToInteractive',\n",
              "                                                     [key], {});\n",
              "          if (!dataTable) return;\n",
              "\n",
              "          const docLinkHtml = 'Like what you see? Visit the ' +\n",
              "            '<a target=\"_blank\" href=https://colab.research.google.com/notebooks/data_table.ipynb>data table notebook</a>'\n",
              "            + ' to learn more about interactive tables.';\n",
              "          element.innerHTML = '';\n",
              "          dataTable['output_type'] = 'display_data';\n",
              "          await google.colab.output.renderOutput(dataTable, element);\n",
              "          const docLink = document.createElement('div');\n",
              "          docLink.innerHTML = docLinkHtml;\n",
              "          element.appendChild(docLink);\n",
              "        }\n",
              "      </script>\n",
              "    </div>\n",
              "  </div>\n",
              "  "
            ]
          },
          "metadata": {},
          "execution_count": 152
        }
      ],
      "source": [
        "assessments.query('id_assessment == @rating.idxmax()')"
      ]
    },
    {
      "cell_type": "markdown",
      "metadata": {
        "id": "84tydJl1bLFL"
      },
      "source": [
        "Это экзамен с id 25361 по курсу DDD в семестре 2014B."
      ]
    },
    {
      "cell_type": "markdown",
      "metadata": {
        "id": "QjvhZAZWbLFL"
      },
      "source": [
        "Посмотрим, какой экзамен было сложнее всего сдать."
      ]
    },
    {
      "cell_type": "code",
      "execution_count": 153,
      "metadata": {
        "colab": {
          "base_uri": "https://localhost:8080/",
          "height": 81
        },
        "id": "odCScqs9bLFL",
        "outputId": "15ee9238-fd9a-4489-f6e0-4d705ac7f0f0"
      },
      "outputs": [
        {
          "output_type": "execute_result",
          "data": {
            "text/plain": [
              "   code_module code_presentation  id_assessment assessment_type   date  weight\n",
              "87         DDD             2013B          25340            Exam  240.0   100.0"
            ],
            "text/html": [
              "\n",
              "  <div id=\"df-a3cbe263-bfb1-4f65-8be2-964cf7e42984\">\n",
              "    <div class=\"colab-df-container\">\n",
              "      <div>\n",
              "<style scoped>\n",
              "    .dataframe tbody tr th:only-of-type {\n",
              "        vertical-align: middle;\n",
              "    }\n",
              "\n",
              "    .dataframe tbody tr th {\n",
              "        vertical-align: top;\n",
              "    }\n",
              "\n",
              "    .dataframe thead th {\n",
              "        text-align: right;\n",
              "    }\n",
              "</style>\n",
              "<table border=\"1\" class=\"dataframe\">\n",
              "  <thead>\n",
              "    <tr style=\"text-align: right;\">\n",
              "      <th></th>\n",
              "      <th>code_module</th>\n",
              "      <th>code_presentation</th>\n",
              "      <th>id_assessment</th>\n",
              "      <th>assessment_type</th>\n",
              "      <th>date</th>\n",
              "      <th>weight</th>\n",
              "    </tr>\n",
              "  </thead>\n",
              "  <tbody>\n",
              "    <tr>\n",
              "      <th>87</th>\n",
              "      <td>DDD</td>\n",
              "      <td>2013B</td>\n",
              "      <td>25340</td>\n",
              "      <td>Exam</td>\n",
              "      <td>240.0</td>\n",
              "      <td>100.0</td>\n",
              "    </tr>\n",
              "  </tbody>\n",
              "</table>\n",
              "</div>\n",
              "      <button class=\"colab-df-convert\" onclick=\"convertToInteractive('df-a3cbe263-bfb1-4f65-8be2-964cf7e42984')\"\n",
              "              title=\"Convert this dataframe to an interactive table.\"\n",
              "              style=\"display:none;\">\n",
              "        \n",
              "  <svg xmlns=\"http://www.w3.org/2000/svg\" height=\"24px\"viewBox=\"0 0 24 24\"\n",
              "       width=\"24px\">\n",
              "    <path d=\"M0 0h24v24H0V0z\" fill=\"none\"/>\n",
              "    <path d=\"M18.56 5.44l.94 2.06.94-2.06 2.06-.94-2.06-.94-.94-2.06-.94 2.06-2.06.94zm-11 1L8.5 8.5l.94-2.06 2.06-.94-2.06-.94L8.5 2.5l-.94 2.06-2.06.94zm10 10l.94 2.06.94-2.06 2.06-.94-2.06-.94-.94-2.06-.94 2.06-2.06.94z\"/><path d=\"M17.41 7.96l-1.37-1.37c-.4-.4-.92-.59-1.43-.59-.52 0-1.04.2-1.43.59L10.3 9.45l-7.72 7.72c-.78.78-.78 2.05 0 2.83L4 21.41c.39.39.9.59 1.41.59.51 0 1.02-.2 1.41-.59l7.78-7.78 2.81-2.81c.8-.78.8-2.07 0-2.86zM5.41 20L4 18.59l7.72-7.72 1.47 1.35L5.41 20z\"/>\n",
              "  </svg>\n",
              "      </button>\n",
              "      \n",
              "  <style>\n",
              "    .colab-df-container {\n",
              "      display:flex;\n",
              "      flex-wrap:wrap;\n",
              "      gap: 12px;\n",
              "    }\n",
              "\n",
              "    .colab-df-convert {\n",
              "      background-color: #E8F0FE;\n",
              "      border: none;\n",
              "      border-radius: 50%;\n",
              "      cursor: pointer;\n",
              "      display: none;\n",
              "      fill: #1967D2;\n",
              "      height: 32px;\n",
              "      padding: 0 0 0 0;\n",
              "      width: 32px;\n",
              "    }\n",
              "\n",
              "    .colab-df-convert:hover {\n",
              "      background-color: #E2EBFA;\n",
              "      box-shadow: 0px 1px 2px rgba(60, 64, 67, 0.3), 0px 1px 3px 1px rgba(60, 64, 67, 0.15);\n",
              "      fill: #174EA6;\n",
              "    }\n",
              "\n",
              "    [theme=dark] .colab-df-convert {\n",
              "      background-color: #3B4455;\n",
              "      fill: #D2E3FC;\n",
              "    }\n",
              "\n",
              "    [theme=dark] .colab-df-convert:hover {\n",
              "      background-color: #434B5C;\n",
              "      box-shadow: 0px 1px 3px 1px rgba(0, 0, 0, 0.15);\n",
              "      filter: drop-shadow(0px 1px 2px rgba(0, 0, 0, 0.3));\n",
              "      fill: #FFFFFF;\n",
              "    }\n",
              "  </style>\n",
              "\n",
              "      <script>\n",
              "        const buttonEl =\n",
              "          document.querySelector('#df-a3cbe263-bfb1-4f65-8be2-964cf7e42984 button.colab-df-convert');\n",
              "        buttonEl.style.display =\n",
              "          google.colab.kernel.accessAllowed ? 'block' : 'none';\n",
              "\n",
              "        async function convertToInteractive(key) {\n",
              "          const element = document.querySelector('#df-a3cbe263-bfb1-4f65-8be2-964cf7e42984');\n",
              "          const dataTable =\n",
              "            await google.colab.kernel.invokeFunction('convertToInteractive',\n",
              "                                                     [key], {});\n",
              "          if (!dataTable) return;\n",
              "\n",
              "          const docLinkHtml = 'Like what you see? Visit the ' +\n",
              "            '<a target=\"_blank\" href=https://colab.research.google.com/notebooks/data_table.ipynb>data table notebook</a>'\n",
              "            + ' to learn more about interactive tables.';\n",
              "          element.innerHTML = '';\n",
              "          dataTable['output_type'] = 'display_data';\n",
              "          await google.colab.output.renderOutput(dataTable, element);\n",
              "          const docLink = document.createElement('div');\n",
              "          docLink.innerHTML = docLinkHtml;\n",
              "          element.appendChild(docLink);\n",
              "        }\n",
              "      </script>\n",
              "    </div>\n",
              "  </div>\n",
              "  "
            ]
          },
          "metadata": {},
          "execution_count": 153
        }
      ],
      "source": [
        "assessments.query('id_assessment == @rating.idxmin()')"
      ]
    },
    {
      "cell_type": "markdown",
      "metadata": {
        "id": "1KjxMZiSbLFL"
      },
      "source": [
        "Это экзамен с id 25340 по курсу DDD в семестре 2013B."
      ]
    },
    {
      "cell_type": "markdown",
      "metadata": {
        "id": "w1g97RzxbLFL"
      },
      "source": [
        "Теперь посмотрим, какой курс сдали более успешно (без разбивки по семестрам)."
      ]
    },
    {
      "cell_type": "code",
      "execution_count": 154,
      "metadata": {
        "colab": {
          "base_uri": "https://localhost:8080/"
        },
        "id": "vdsZn8xpbLFM",
        "outputId": "d36ad7c9-e16f-4675-a578-2ab4dfdf44d7"
      },
      "outputs": [
        {
          "output_type": "execute_result",
          "data": {
            "text/plain": [
              "code_module\n",
              "CCC    87.89\n",
              "DDD    88.99\n",
              "Name: passed, dtype: float64"
            ]
          },
          "metadata": {},
          "execution_count": 154
        }
      ],
      "source": [
        "assessments_score \\\n",
        "    .query('assessment_type == \"Exam\" and is_banked == 0') \\\n",
        "    .groupby('code_module') \\\n",
        "    .passed \\\n",
        "    .mean() \\\n",
        "    .mul(100) \\\n",
        "    .round(2)"
      ]
    },
    {
      "cell_type": "markdown",
      "metadata": {
        "id": "dDpsnCHJbLFM"
      },
      "source": [
        "Также посмотрим, в каком семестре было больше успешных попыток сдать экзамены."
      ]
    },
    {
      "cell_type": "code",
      "execution_count": 155,
      "metadata": {
        "colab": {
          "base_uri": "https://localhost:8080/"
        },
        "id": "4GXxH6RHbLFO",
        "outputId": "b17ab5be-a3df-4877-9691-159d2987a6a0"
      },
      "outputs": [
        {
          "output_type": "execute_result",
          "data": {
            "text/plain": [
              "code_presentation\n",
              "2013B    83.72\n",
              "2013J    90.70\n",
              "2014B    90.40\n",
              "2014J    87.87\n",
              "Name: passed, dtype: float64"
            ]
          },
          "metadata": {},
          "execution_count": 155
        }
      ],
      "source": [
        "assessments_score \\\n",
        "    .query('assessment_type == \"Exam\" and is_banked == 0') \\\n",
        "    .groupby('code_presentation') \\\n",
        "    .passed \\\n",
        "    .mean() \\\n",
        "    .mul(100) \\\n",
        "    .round(2)"
      ]
    },
    {
      "cell_type": "markdown",
      "metadata": {
        "id": "UtlvZT__bLFO"
      },
      "source": [
        "###### Ответ на задание 2: \n",
        "\n",
        "Самый сложный экзамен - экзамен с id 25340 курса DDD в семестре 2013B, самый простой - экзамен с id 25361 курса DDD в семестре 2014B. Если смотреть по предмету в целом (без учета семестра), то разница между предметами небольшая: курс DDD сдают с первой попытки чуть лучше, чем курс ССС. Из семестров самым удачным можно считать 2013J, когда 90,7% попыток сдать экзамены были успешными. "
      ]
    },
    {
      "cell_type": "markdown",
      "metadata": {
        "id": "Nh7Zs9sybLFO"
      },
      "source": [
        "###### Задание 3. По каждому предмету определи средний срок сдачи* экзаменов.\n",
        "\n",
        "*Под сдачей понимаем последнее успешное прохождение экзамена студентом "
      ]
    },
    {
      "cell_type": "markdown",
      "metadata": {
        "id": "AqpBMdM1bLFO"
      },
      "source": [
        "Сгруппируем данные по предмету и рассчитаем средний срок сдачи экзаменов по каждому предмету."
      ]
    },
    {
      "cell_type": "code",
      "execution_count": 156,
      "metadata": {
        "colab": {
          "base_uri": "https://localhost:8080/"
        },
        "id": "IzYc4h7xbLFP",
        "outputId": "55eac825-aa56-4978-9632-a76cf4504cc2"
      },
      "outputs": [
        {
          "output_type": "execute_result",
          "data": {
            "text/plain": [
              "code_module\n",
              "CCC    239.35\n",
              "DDD    237.98\n",
              "Name: date_submitted, dtype: float64"
            ]
          },
          "metadata": {},
          "execution_count": 156
        }
      ],
      "source": [
        "assessments_score \\\n",
        "    .query('assessment_type == \"Exam\" and score >= 40 and is_banked == 0') \\\n",
        "    .groupby('code_module') \\\n",
        "    .date_submitted \\\n",
        "    .mean() \\\n",
        "    .round(2)"
      ]
    },
    {
      "cell_type": "markdown",
      "metadata": {
        "id": "7XAligRCbLFP"
      },
      "source": [
        "Сгруппируем данные по предмету и id экзамена и рассчитаем средний срок сдачи по каждому экзамену."
      ]
    },
    {
      "cell_type": "code",
      "execution_count": 157,
      "metadata": {
        "colab": {
          "base_uri": "https://localhost:8080/"
        },
        "id": "6jAgrXhUbLFP",
        "outputId": "768e78c9-9fcc-46b7-c684-3c8eb5c9f275"
      },
      "outputs": [
        {
          "output_type": "execute_result",
          "data": {
            "text/plain": [
              "code_module  id_assessment\n",
              "CCC          24290            231.58\n",
              "             24299            244.40\n",
              "DDD          25340            230.16\n",
              "             25354            239.51\n",
              "             25361            234.94\n",
              "             25368            242.80\n",
              "Name: date_submitted, dtype: float64"
            ]
          },
          "metadata": {},
          "execution_count": 157
        }
      ],
      "source": [
        "assessments_score \\\n",
        "    .query('assessment_type == \"Exam\" and score >= 40 and is_banked == 0') \\\n",
        "    .groupby(['code_module', 'id_assessment']) \\\n",
        "    .date_submitted \\\n",
        "    .mean() \\\n",
        "    .round(2)"
      ]
    },
    {
      "cell_type": "markdown",
      "metadata": {
        "id": "PElxQ-wTbLFP"
      },
      "source": [
        "###### Ответ на задание 3: \n",
        "\n",
        "Средний срок сдачи по предмету ССС по всем экзаменам составляет 239.35, по предмету DDD - 237.98. Средний срок сдачи по каждому отдельному экзамену представлен в таблице выше."
      ]
    },
    {
      "cell_type": "markdown",
      "metadata": {
        "id": "h86ReKr0bLFP"
      },
      "source": [
        "###### Задание 4. Выяви самые популярные предметы (ТОП-3) по количеству регистраций на них. А также предметы с самым большим оттоком (ТОП-3)."
      ]
    },
    {
      "cell_type": "markdown",
      "metadata": {
        "id": "F8H00MtrbLFP"
      },
      "source": [
        "Посмотрим на регистрации по каждому предмету в процентном отношении."
      ]
    },
    {
      "cell_type": "code",
      "execution_count": 181,
      "metadata": {
        "colab": {
          "base_uri": "https://localhost:8080/"
        },
        "id": "nfWTeIy8bLFP",
        "outputId": "d2f446f8-a74a-4602-cc9f-a25be2f77cd7"
      },
      "outputs": [
        {
          "output_type": "execute_result",
          "data": {
            "text/plain": [
              "BBB    24.27\n",
              "FFF    23.82\n",
              "DDD    19.24\n",
              "CCC    13.60\n",
              "EEE     9.00\n",
              "GGG     7.77\n",
              "AAA     2.30\n",
              "Name: code_module, dtype: float64"
            ]
          },
          "metadata": {},
          "execution_count": 181
        }
      ],
      "source": [
        "studentRegistration \\\n",
        "    .query('date_registration != 0') \\\n",
        "    .code_module \\\n",
        "    .value_counts(normalize=True) \\\n",
        "    .mul(100) \\\n",
        "    .round(2)"
      ]
    },
    {
      "cell_type": "markdown",
      "metadata": {
        "id": "VYDfClkqbLFP"
      },
      "source": [
        "Самые популярные предметы (ТОП-3) по количеству регистраций - это BBB, FFF, DDD."
      ]
    },
    {
      "cell_type": "markdown",
      "metadata": {
        "id": "KOgoRLj1bLFP"
      },
      "source": [
        "Посмотрим на отмену регистрации по каждому предмету в процентном отношении."
      ]
    },
    {
      "cell_type": "code",
      "execution_count": 178,
      "metadata": {
        "colab": {
          "base_uri": "https://localhost:8080/"
        },
        "id": "jd4X8mGObLFQ",
        "outputId": "6875a39e-21d1-4849-92b6-cb9787c24a29"
      },
      "outputs": [
        {
          "output_type": "execute_result",
          "data": {
            "text/plain": [
              "BBB    24.17\n",
              "FFF    23.76\n",
              "DDD    19.25\n",
              "CCC    13.67\n",
              "EEE     8.96\n",
              "GGG     7.87\n",
              "AAA     2.32\n",
              "Name: code_module, dtype: float64"
            ]
          },
          "metadata": {},
          "execution_count": 178
        }
      ],
      "source": [
        "studentRegistration \\\n",
        "    .query('date_unregistration != 0') \\\n",
        "    .code_module \\\n",
        "    .value_counts(normalize=True) \\\n",
        "    .mul(100) \\\n",
        "    .round(2)"
      ]
    },
    {
      "cell_type": "markdown",
      "metadata": {
        "id": "yJtUGCXJbLFQ"
      },
      "source": [
        "Видим, что по предметам, на которые регистрируются больше всего, уровень отмены регистраций также высокий. Но это ничего не говорит нам об оттоке студентов (то есть о том, сколькие из зарегистрировавшихся на курс студентов отменили регистрацию)."
      ]
    },
    {
      "cell_type": "markdown",
      "metadata": {
        "id": "n1DSudi3bLFQ"
      },
      "source": [
        "Посчитаем отток студентов по каждому предмету как отношение количества отмененных регистраций к общему количеству регистраций."
      ]
    },
    {
      "cell_type": "code",
      "source": [
        "# посчитаем количество регистраций по курсам\n",
        "regs = studentRegistration[studentRegistration['date_registration'].notnull()] \\\n",
        "        .groupby('code_module', as_index=False) \\\n",
        "        .id_student \\\n",
        "        .nunique() \\\n",
        "        .rename(columns={'id_student': 'registrations'})\n",
        "\n",
        "# посчитаем количество отмененных регистраций по курсам\n",
        "unregs = studentRegistration[studentRegistration['date_unregistration'].notnull()] \\\n",
        "          .groupby('code_module', as_index=False) \\\n",
        "          .id_student \\\n",
        "          .nunique() \\\n",
        "          .rename(columns={'id_student': 'unregistrations'})\n",
        "\n",
        "# объединим в датафрейм и выведем результат\n",
        "stat = pd.merge(regs, unregs, on='code_module')\n",
        "stat['churn_rate'] = (stat.unregistrations / stat.registrations).mul(100).round(2)\n",
        "stat.sort_values('churn_rate', ascending=False)"
      ],
      "metadata": {
        "colab": {
          "base_uri": "https://localhost:8080/",
          "height": 321
        },
        "id": "P6fexuQQ4Ah-",
        "outputId": "dc37b4d4-3191-49d3-9030-2669e1c5b127"
      },
      "execution_count": 221,
      "outputs": [
        {
          "output_type": "execute_result",
          "data": {
            "text/plain": [
              "  code_module  registrations  unregistrations  churn_rate\n",
              "2         CCC           4244             1858       43.78\n",
              "3         DDD           5840             2065       35.36\n",
              "5         FFF           7387             2249       30.45\n",
              "1         BBB           7683             2314       30.12\n",
              "4         EEE           2858              693       24.25\n",
              "0         AAA            712              116       16.29\n",
              "6         GGG           2525              287       11.37"
            ],
            "text/html": [
              "\n",
              "  <div id=\"df-773e9440-661a-40bf-ae94-873c81e46634\">\n",
              "    <div class=\"colab-df-container\">\n",
              "      <div>\n",
              "<style scoped>\n",
              "    .dataframe tbody tr th:only-of-type {\n",
              "        vertical-align: middle;\n",
              "    }\n",
              "\n",
              "    .dataframe tbody tr th {\n",
              "        vertical-align: top;\n",
              "    }\n",
              "\n",
              "    .dataframe thead th {\n",
              "        text-align: right;\n",
              "    }\n",
              "</style>\n",
              "<table border=\"1\" class=\"dataframe\">\n",
              "  <thead>\n",
              "    <tr style=\"text-align: right;\">\n",
              "      <th></th>\n",
              "      <th>code_module</th>\n",
              "      <th>registrations</th>\n",
              "      <th>unregistrations</th>\n",
              "      <th>churn_rate</th>\n",
              "    </tr>\n",
              "  </thead>\n",
              "  <tbody>\n",
              "    <tr>\n",
              "      <th>2</th>\n",
              "      <td>CCC</td>\n",
              "      <td>4244</td>\n",
              "      <td>1858</td>\n",
              "      <td>43.78</td>\n",
              "    </tr>\n",
              "    <tr>\n",
              "      <th>3</th>\n",
              "      <td>DDD</td>\n",
              "      <td>5840</td>\n",
              "      <td>2065</td>\n",
              "      <td>35.36</td>\n",
              "    </tr>\n",
              "    <tr>\n",
              "      <th>5</th>\n",
              "      <td>FFF</td>\n",
              "      <td>7387</td>\n",
              "      <td>2249</td>\n",
              "      <td>30.45</td>\n",
              "    </tr>\n",
              "    <tr>\n",
              "      <th>1</th>\n",
              "      <td>BBB</td>\n",
              "      <td>7683</td>\n",
              "      <td>2314</td>\n",
              "      <td>30.12</td>\n",
              "    </tr>\n",
              "    <tr>\n",
              "      <th>4</th>\n",
              "      <td>EEE</td>\n",
              "      <td>2858</td>\n",
              "      <td>693</td>\n",
              "      <td>24.25</td>\n",
              "    </tr>\n",
              "    <tr>\n",
              "      <th>0</th>\n",
              "      <td>AAA</td>\n",
              "      <td>712</td>\n",
              "      <td>116</td>\n",
              "      <td>16.29</td>\n",
              "    </tr>\n",
              "    <tr>\n",
              "      <th>6</th>\n",
              "      <td>GGG</td>\n",
              "      <td>2525</td>\n",
              "      <td>287</td>\n",
              "      <td>11.37</td>\n",
              "    </tr>\n",
              "  </tbody>\n",
              "</table>\n",
              "</div>\n",
              "      <button class=\"colab-df-convert\" onclick=\"convertToInteractive('df-773e9440-661a-40bf-ae94-873c81e46634')\"\n",
              "              title=\"Convert this dataframe to an interactive table.\"\n",
              "              style=\"display:none;\">\n",
              "        \n",
              "  <svg xmlns=\"http://www.w3.org/2000/svg\" height=\"24px\"viewBox=\"0 0 24 24\"\n",
              "       width=\"24px\">\n",
              "    <path d=\"M0 0h24v24H0V0z\" fill=\"none\"/>\n",
              "    <path d=\"M18.56 5.44l.94 2.06.94-2.06 2.06-.94-2.06-.94-.94-2.06-.94 2.06-2.06.94zm-11 1L8.5 8.5l.94-2.06 2.06-.94-2.06-.94L8.5 2.5l-.94 2.06-2.06.94zm10 10l.94 2.06.94-2.06 2.06-.94-2.06-.94-.94-2.06-.94 2.06-2.06.94z\"/><path d=\"M17.41 7.96l-1.37-1.37c-.4-.4-.92-.59-1.43-.59-.52 0-1.04.2-1.43.59L10.3 9.45l-7.72 7.72c-.78.78-.78 2.05 0 2.83L4 21.41c.39.39.9.59 1.41.59.51 0 1.02-.2 1.41-.59l7.78-7.78 2.81-2.81c.8-.78.8-2.07 0-2.86zM5.41 20L4 18.59l7.72-7.72 1.47 1.35L5.41 20z\"/>\n",
              "  </svg>\n",
              "      </button>\n",
              "      \n",
              "  <style>\n",
              "    .colab-df-container {\n",
              "      display:flex;\n",
              "      flex-wrap:wrap;\n",
              "      gap: 12px;\n",
              "    }\n",
              "\n",
              "    .colab-df-convert {\n",
              "      background-color: #E8F0FE;\n",
              "      border: none;\n",
              "      border-radius: 50%;\n",
              "      cursor: pointer;\n",
              "      display: none;\n",
              "      fill: #1967D2;\n",
              "      height: 32px;\n",
              "      padding: 0 0 0 0;\n",
              "      width: 32px;\n",
              "    }\n",
              "\n",
              "    .colab-df-convert:hover {\n",
              "      background-color: #E2EBFA;\n",
              "      box-shadow: 0px 1px 2px rgba(60, 64, 67, 0.3), 0px 1px 3px 1px rgba(60, 64, 67, 0.15);\n",
              "      fill: #174EA6;\n",
              "    }\n",
              "\n",
              "    [theme=dark] .colab-df-convert {\n",
              "      background-color: #3B4455;\n",
              "      fill: #D2E3FC;\n",
              "    }\n",
              "\n",
              "    [theme=dark] .colab-df-convert:hover {\n",
              "      background-color: #434B5C;\n",
              "      box-shadow: 0px 1px 3px 1px rgba(0, 0, 0, 0.15);\n",
              "      filter: drop-shadow(0px 1px 2px rgba(0, 0, 0, 0.3));\n",
              "      fill: #FFFFFF;\n",
              "    }\n",
              "  </style>\n",
              "\n",
              "      <script>\n",
              "        const buttonEl =\n",
              "          document.querySelector('#df-773e9440-661a-40bf-ae94-873c81e46634 button.colab-df-convert');\n",
              "        buttonEl.style.display =\n",
              "          google.colab.kernel.accessAllowed ? 'block' : 'none';\n",
              "\n",
              "        async function convertToInteractive(key) {\n",
              "          const element = document.querySelector('#df-773e9440-661a-40bf-ae94-873c81e46634');\n",
              "          const dataTable =\n",
              "            await google.colab.kernel.invokeFunction('convertToInteractive',\n",
              "                                                     [key], {});\n",
              "          if (!dataTable) return;\n",
              "\n",
              "          const docLinkHtml = 'Like what you see? Visit the ' +\n",
              "            '<a target=\"_blank\" href=https://colab.research.google.com/notebooks/data_table.ipynb>data table notebook</a>'\n",
              "            + ' to learn more about interactive tables.';\n",
              "          element.innerHTML = '';\n",
              "          dataTable['output_type'] = 'display_data';\n",
              "          await google.colab.output.renderOutput(dataTable, element);\n",
              "          const docLink = document.createElement('div');\n",
              "          docLink.innerHTML = docLinkHtml;\n",
              "          element.appendChild(docLink);\n",
              "        }\n",
              "      </script>\n",
              "    </div>\n",
              "  </div>\n",
              "  "
            ]
          },
          "metadata": {},
          "execution_count": 221
        },
        {
          "output_type": "stream",
          "name": "stderr",
          "text": [
            "INFO:pycodestyle:2:80: E501 line too long (80 > 79 characters)\n",
            "INFO:pycodestyle:9:80: E501 line too long (84 > 79 characters)\n",
            "INFO:pycodestyle:16:80: E501 line too long (82 > 79 characters)\n"
          ]
        }
      ]
    },
    {
      "cell_type": "markdown",
      "metadata": {
        "id": "4xr_wz9-bLFQ"
      },
      "source": [
        "Получилось, что более сорока процентов студентов отменили регистрацию на предмет ССС. Весь топ выглядит так: ССС, DDD, FFF."
      ]
    },
    {
      "cell_type": "markdown",
      "metadata": {
        "id": "Ac5tbwwKbLFS"
      },
      "source": [
        "###### Ответ на задание 4: \n",
        "\n",
        "ТОП-3 предметов по регистрациям: BBB, FFF, DDD. ТОП-3 предметов по оттоку: CCC, DDD, FFF."
      ]
    },
    {
      "cell_type": "markdown",
      "metadata": {
        "id": "cgoWYISHbLFS"
      },
      "source": [
        "###### Задание 5. Используя pandas, в период с начала 2013 по конец 2014 выяви семестр с самой низкой завершаемостью курсов и самыми долгими средними сроками сдачи курсов."
      ]
    },
    {
      "cell_type": "markdown",
      "metadata": {
        "id": "xSYcEDm6bLFT"
      },
      "source": [
        "Будем придерживаться идеи о том, что завершаемость - это количество успешных попыток сдать экзамен по отношению к общему количеству попыток сдать экзамен. "
      ]
    },
    {
      "cell_type": "code",
      "execution_count": 275,
      "metadata": {
        "colab": {
          "base_uri": "https://localhost:8080/",
          "height": 227
        },
        "id": "w3I2tTYDbLFT",
        "outputId": "dc07c0e7-5aa5-4380-cbac-0e1fb6771324"
      },
      "outputs": [
        {
          "output_type": "execute_result",
          "data": {
            "text/plain": [
              "  code_presentation  completed  exam_time  non_exam_time\n",
              "0             2013B      83.72     230.16         109.11\n",
              "1             2013J      90.70     239.51         118.59\n",
              "2             2014B      90.40     233.00         111.23\n",
              "3             2014J      87.87     243.68         114.40"
            ],
            "text/html": [
              "\n",
              "  <div id=\"df-f2f7706d-43eb-4ce7-a133-ce7daf389f03\">\n",
              "    <div class=\"colab-df-container\">\n",
              "      <div>\n",
              "<style scoped>\n",
              "    .dataframe tbody tr th:only-of-type {\n",
              "        vertical-align: middle;\n",
              "    }\n",
              "\n",
              "    .dataframe tbody tr th {\n",
              "        vertical-align: top;\n",
              "    }\n",
              "\n",
              "    .dataframe thead th {\n",
              "        text-align: right;\n",
              "    }\n",
              "</style>\n",
              "<table border=\"1\" class=\"dataframe\">\n",
              "  <thead>\n",
              "    <tr style=\"text-align: right;\">\n",
              "      <th></th>\n",
              "      <th>code_presentation</th>\n",
              "      <th>completed</th>\n",
              "      <th>exam_time</th>\n",
              "      <th>non_exam_time</th>\n",
              "    </tr>\n",
              "  </thead>\n",
              "  <tbody>\n",
              "    <tr>\n",
              "      <th>0</th>\n",
              "      <td>2013B</td>\n",
              "      <td>83.72</td>\n",
              "      <td>230.16</td>\n",
              "      <td>109.11</td>\n",
              "    </tr>\n",
              "    <tr>\n",
              "      <th>1</th>\n",
              "      <td>2013J</td>\n",
              "      <td>90.70</td>\n",
              "      <td>239.51</td>\n",
              "      <td>118.59</td>\n",
              "    </tr>\n",
              "    <tr>\n",
              "      <th>2</th>\n",
              "      <td>2014B</td>\n",
              "      <td>90.40</td>\n",
              "      <td>233.00</td>\n",
              "      <td>111.23</td>\n",
              "    </tr>\n",
              "    <tr>\n",
              "      <th>3</th>\n",
              "      <td>2014J</td>\n",
              "      <td>87.87</td>\n",
              "      <td>243.68</td>\n",
              "      <td>114.40</td>\n",
              "    </tr>\n",
              "  </tbody>\n",
              "</table>\n",
              "</div>\n",
              "      <button class=\"colab-df-convert\" onclick=\"convertToInteractive('df-f2f7706d-43eb-4ce7-a133-ce7daf389f03')\"\n",
              "              title=\"Convert this dataframe to an interactive table.\"\n",
              "              style=\"display:none;\">\n",
              "        \n",
              "  <svg xmlns=\"http://www.w3.org/2000/svg\" height=\"24px\"viewBox=\"0 0 24 24\"\n",
              "       width=\"24px\">\n",
              "    <path d=\"M0 0h24v24H0V0z\" fill=\"none\"/>\n",
              "    <path d=\"M18.56 5.44l.94 2.06.94-2.06 2.06-.94-2.06-.94-.94-2.06-.94 2.06-2.06.94zm-11 1L8.5 8.5l.94-2.06 2.06-.94-2.06-.94L8.5 2.5l-.94 2.06-2.06.94zm10 10l.94 2.06.94-2.06 2.06-.94-2.06-.94-.94-2.06-.94 2.06-2.06.94z\"/><path d=\"M17.41 7.96l-1.37-1.37c-.4-.4-.92-.59-1.43-.59-.52 0-1.04.2-1.43.59L10.3 9.45l-7.72 7.72c-.78.78-.78 2.05 0 2.83L4 21.41c.39.39.9.59 1.41.59.51 0 1.02-.2 1.41-.59l7.78-7.78 2.81-2.81c.8-.78.8-2.07 0-2.86zM5.41 20L4 18.59l7.72-7.72 1.47 1.35L5.41 20z\"/>\n",
              "  </svg>\n",
              "      </button>\n",
              "      \n",
              "  <style>\n",
              "    .colab-df-container {\n",
              "      display:flex;\n",
              "      flex-wrap:wrap;\n",
              "      gap: 12px;\n",
              "    }\n",
              "\n",
              "    .colab-df-convert {\n",
              "      background-color: #E8F0FE;\n",
              "      border: none;\n",
              "      border-radius: 50%;\n",
              "      cursor: pointer;\n",
              "      display: none;\n",
              "      fill: #1967D2;\n",
              "      height: 32px;\n",
              "      padding: 0 0 0 0;\n",
              "      width: 32px;\n",
              "    }\n",
              "\n",
              "    .colab-df-convert:hover {\n",
              "      background-color: #E2EBFA;\n",
              "      box-shadow: 0px 1px 2px rgba(60, 64, 67, 0.3), 0px 1px 3px 1px rgba(60, 64, 67, 0.15);\n",
              "      fill: #174EA6;\n",
              "    }\n",
              "\n",
              "    [theme=dark] .colab-df-convert {\n",
              "      background-color: #3B4455;\n",
              "      fill: #D2E3FC;\n",
              "    }\n",
              "\n",
              "    [theme=dark] .colab-df-convert:hover {\n",
              "      background-color: #434B5C;\n",
              "      box-shadow: 0px 1px 3px 1px rgba(0, 0, 0, 0.15);\n",
              "      filter: drop-shadow(0px 1px 2px rgba(0, 0, 0, 0.3));\n",
              "      fill: #FFFFFF;\n",
              "    }\n",
              "  </style>\n",
              "\n",
              "      <script>\n",
              "        const buttonEl =\n",
              "          document.querySelector('#df-f2f7706d-43eb-4ce7-a133-ce7daf389f03 button.colab-df-convert');\n",
              "        buttonEl.style.display =\n",
              "          google.colab.kernel.accessAllowed ? 'block' : 'none';\n",
              "\n",
              "        async function convertToInteractive(key) {\n",
              "          const element = document.querySelector('#df-f2f7706d-43eb-4ce7-a133-ce7daf389f03');\n",
              "          const dataTable =\n",
              "            await google.colab.kernel.invokeFunction('convertToInteractive',\n",
              "                                                     [key], {});\n",
              "          if (!dataTable) return;\n",
              "\n",
              "          const docLinkHtml = 'Like what you see? Visit the ' +\n",
              "            '<a target=\"_blank\" href=https://colab.research.google.com/notebooks/data_table.ipynb>data table notebook</a>'\n",
              "            + ' to learn more about interactive tables.';\n",
              "          element.innerHTML = '';\n",
              "          dataTable['output_type'] = 'display_data';\n",
              "          await google.colab.output.renderOutput(dataTable, element);\n",
              "          const docLink = document.createElement('div');\n",
              "          docLink.innerHTML = docLinkHtml;\n",
              "          element.appendChild(docLink);\n",
              "        }\n",
              "      </script>\n",
              "    </div>\n",
              "  </div>\n",
              "  "
            ]
          },
          "metadata": {},
          "execution_count": 275
        },
        {
          "output_type": "stream",
          "name": "stderr",
          "text": [
            "INFO:pycodestyle:12:80: E501 line too long (86 > 79 characters)\n",
            "INFO:pycodestyle:18:80: E501 line too long (112 > 79 characters)\n",
            "INFO:pycodestyle:20:80: E501 line too long (90 > 79 characters)\n"
          ]
        }
      ],
      "source": [
        "# посчитаем завершаемость курсов по семестрам\n",
        "completed = assessments_score \\\n",
        "            .query('assessment_type == \"Exam\" and is_banked == 0') \\\n",
        "            .groupby('code_presentation') \\\n",
        "            .agg({'passed': 'mean'}) \\\n",
        "            .mul(100) \\\n",
        "            .round(2) \\\n",
        "            .rename(columns={'passed': 'completed'})\n",
        "\n",
        "# посчитаем среднюю продолжительность сдачи экзаменов по семестрам\n",
        "exam_time = assessments_score \\\n",
        "              .query('assessment_type == \"Exam\" and score >= 40 and is_banked == 0') \\\n",
        "              .groupby('code_presentation') \\\n",
        "              .agg({'date_submitted': 'mean'}) \\\n",
        "              .round(2) \\\n",
        "              .rename(columns={'date_submitted': 'exam_time'})\n",
        "\n",
        "# посчитаем среднюю продолжительность сдачи тестов иных типов (не экзаменов) по семестрам - для общей информации\n",
        "non_exam_time = assessments_score \\\n",
        "                  .query('assessment_type != \"Exam\" and score >= 40 and is_banked == 0') \\\n",
        "                  .groupby('code_presentation') \\\n",
        "                  .agg({'date_submitted': 'mean'}) \\\n",
        "                  .round(2) \\\n",
        "                  .rename(columns={'date_submitted': 'non_exam_time'})\n",
        "\n",
        "# объединим информацию в один датафрейм и выводем результат\n",
        "stat = pd.merge(completed, exam_time, on='code_presentation')\n",
        "stat = stat.merge(non_exam_time, on='code_presentation').reset_index()\n",
        "stat"
      ]
    },
    {
      "cell_type": "markdown",
      "metadata": {
        "id": "6uPe51nWbLFT"
      },
      "source": [
        "###### Ответ на задание 5: \n",
        "\n",
        "Семестр с самой низкой завершаемостью курсов - 2013B, семестр с самой высокой средней продолжительностью сдачи экзаменов - 2014J, а с самой высокой средней продолжительностью сдачи тестов, помимо экзамена, - 2013J."
      ]
    },
    {
      "cell_type": "markdown",
      "metadata": {
        "id": "eKN7v_EybLFT"
      },
      "source": [
        "###### Задание 6. Используя python, построй адаптированные RFM-кластеры студентов, чтобы качественно оценить свою аудиторию. Для каждого RFM-сегмента построй границы метрик recency, frequency и monetary для интерпретации этих кластеров."
      ]
    },
    {
      "cell_type": "markdown",
      "metadata": {
        "id": "kvZhXtlQbLFU"
      },
      "source": [
        "В адаптированной кластеризации будем использовать следующие метрики: R - среднее время сдачи одного экзамена, F - завершаемость курсов, M - среднее количество баллов, получаемое за экзамен. Будем считать, что курс является сданным/завершенным, только если студент сдал по нему экзамен. В данном случае большая часть студентов не будет учтена в RFM-кластеризации, поскольку информации о сдаче ими экзаменов у нас нет."
      ]
    },
    {
      "cell_type": "markdown",
      "metadata": {
        "id": "fGYeoqPObLFU"
      },
      "source": [
        "Создадим датафрейм RFM. Для этого возьмем датафрейм assessments_score, который содержит информацию о каждом тесте студента, оценке за него и типе теста. Отфильтруем, оставив только информацию об экзаменах. Далее сгруппируем по id студента и посчитаем среднее время сдачи экзамена для каждого студента. В нашем анализе это будет recency. Мы будем учитывать все попытки сдать экзамен (т.е. и неудачные), поскольку это наиболее полно отражает ситуацию по каждому конкретному студенту. Под frequency будем считать количество завершенных курсов (то есть тех, по которым успешно сданы экзамены).\n"
      ]
    },
    {
      "cell_type": "code",
      "execution_count": 277,
      "metadata": {
        "id": "YvinDs62bLFU",
        "colab": {
          "base_uri": "https://localhost:8080/"
        },
        "outputId": "7e8382d5-d6f3-4004-b4a6-88c7f1dc8a29"
      },
      "outputs": [
        {
          "output_type": "stream",
          "name": "stderr",
          "text": [
            "INFO:pycodestyle:1:80: E501 line too long (134 > 79 characters)\n",
            "INFO:pycodestyle:11:80: E501 line too long (86 > 79 characters)\n",
            "INFO:pycodestyle:20:80: E501 line too long (92 > 79 characters)\n",
            "INFO:pycodestyle:23:80: E501 line too long (89 > 79 characters)\n",
            "INFO:pycodestyle:25:19: E127 continuation line over-indented for visual indent\n"
          ]
        }
      ],
      "source": [
        "# на основе датафрейма assessments_score рассчитаем recency - среднее время сдачи экзамена для каждого студента и сохраним в датафрейм\n",
        "RFM = assessments_score \\\n",
        "        .query('assessment_type == \"Exam\" and is_banked == 0') \\\n",
        "        .groupby('id_student', as_index=False) \\\n",
        "        .date_submitted \\\n",
        "        .mean() \\\n",
        "        .rename(columns={'date_submitted': 'recency'})\n",
        "\n",
        "# рассчитаем frequency - завершаемость курсов\n",
        "frequency = assessments_score \\\n",
        "              .query('assessment_type == \"Exam\" and score >= 40 and is_banked == 0') \\\n",
        "              .groupby('id_student', as_index=False) \\\n",
        "              .size()\n",
        "\n",
        "# добавим frequency в RFM\n",
        "RFM = RFM \\\n",
        "        .merge(frequency, how='left', on='id_student') \\\n",
        "        .rename(columns={'size': 'frequency'})\n",
        "\n",
        "# в случае, если появились NaN-значения (если студенты не сдали экзамен), заполним их нулями\n",
        "RFM['frequency'] = RFM.frequency.fillna(0)\n",
        "\n",
        "# рассчитаем monetary - среднее количество баллов, получаемое за экзамен каждым студентом\n",
        "RFM = (RFM.merge(assessments_score\n",
        "                  .query('assessment_type == \"Exam\"')\n",
        "                  .groupby('id_student', as_index=False)\n",
        "                  .score\n",
        "                  .mean()\n",
        "                  .round(), on='id_student', how='left')\n",
        "          .rename(columns={'score': 'monetary'}))"
      ]
    },
    {
      "cell_type": "code",
      "execution_count": 278,
      "metadata": {
        "colab": {
          "base_uri": "https://localhost:8080/",
          "height": 206
        },
        "id": "JcblnlOEbLFV",
        "outputId": "d9b093c9-23e9-4d8b-bb86-72dc28b3e373"
      },
      "outputs": [
        {
          "output_type": "execute_result",
          "data": {
            "text/plain": [
              "   id_student  recency  frequency  monetary\n",
              "0       23698    243.0        1.0      80.0\n",
              "1       24213    236.0        1.0      58.0\n",
              "2       27116    243.0        1.0      96.0\n",
              "3       28046    237.0        1.0      40.0\n",
              "4       28787    243.0        1.0      44.0"
            ],
            "text/html": [
              "\n",
              "  <div id=\"df-d4b8b4ab-9e6a-4c21-b7a7-448a56a9bf90\">\n",
              "    <div class=\"colab-df-container\">\n",
              "      <div>\n",
              "<style scoped>\n",
              "    .dataframe tbody tr th:only-of-type {\n",
              "        vertical-align: middle;\n",
              "    }\n",
              "\n",
              "    .dataframe tbody tr th {\n",
              "        vertical-align: top;\n",
              "    }\n",
              "\n",
              "    .dataframe thead th {\n",
              "        text-align: right;\n",
              "    }\n",
              "</style>\n",
              "<table border=\"1\" class=\"dataframe\">\n",
              "  <thead>\n",
              "    <tr style=\"text-align: right;\">\n",
              "      <th></th>\n",
              "      <th>id_student</th>\n",
              "      <th>recency</th>\n",
              "      <th>frequency</th>\n",
              "      <th>monetary</th>\n",
              "    </tr>\n",
              "  </thead>\n",
              "  <tbody>\n",
              "    <tr>\n",
              "      <th>0</th>\n",
              "      <td>23698</td>\n",
              "      <td>243.0</td>\n",
              "      <td>1.0</td>\n",
              "      <td>80.0</td>\n",
              "    </tr>\n",
              "    <tr>\n",
              "      <th>1</th>\n",
              "      <td>24213</td>\n",
              "      <td>236.0</td>\n",
              "      <td>1.0</td>\n",
              "      <td>58.0</td>\n",
              "    </tr>\n",
              "    <tr>\n",
              "      <th>2</th>\n",
              "      <td>27116</td>\n",
              "      <td>243.0</td>\n",
              "      <td>1.0</td>\n",
              "      <td>96.0</td>\n",
              "    </tr>\n",
              "    <tr>\n",
              "      <th>3</th>\n",
              "      <td>28046</td>\n",
              "      <td>237.0</td>\n",
              "      <td>1.0</td>\n",
              "      <td>40.0</td>\n",
              "    </tr>\n",
              "    <tr>\n",
              "      <th>4</th>\n",
              "      <td>28787</td>\n",
              "      <td>243.0</td>\n",
              "      <td>1.0</td>\n",
              "      <td>44.0</td>\n",
              "    </tr>\n",
              "  </tbody>\n",
              "</table>\n",
              "</div>\n",
              "      <button class=\"colab-df-convert\" onclick=\"convertToInteractive('df-d4b8b4ab-9e6a-4c21-b7a7-448a56a9bf90')\"\n",
              "              title=\"Convert this dataframe to an interactive table.\"\n",
              "              style=\"display:none;\">\n",
              "        \n",
              "  <svg xmlns=\"http://www.w3.org/2000/svg\" height=\"24px\"viewBox=\"0 0 24 24\"\n",
              "       width=\"24px\">\n",
              "    <path d=\"M0 0h24v24H0V0z\" fill=\"none\"/>\n",
              "    <path d=\"M18.56 5.44l.94 2.06.94-2.06 2.06-.94-2.06-.94-.94-2.06-.94 2.06-2.06.94zm-11 1L8.5 8.5l.94-2.06 2.06-.94-2.06-.94L8.5 2.5l-.94 2.06-2.06.94zm10 10l.94 2.06.94-2.06 2.06-.94-2.06-.94-.94-2.06-.94 2.06-2.06.94z\"/><path d=\"M17.41 7.96l-1.37-1.37c-.4-.4-.92-.59-1.43-.59-.52 0-1.04.2-1.43.59L10.3 9.45l-7.72 7.72c-.78.78-.78 2.05 0 2.83L4 21.41c.39.39.9.59 1.41.59.51 0 1.02-.2 1.41-.59l7.78-7.78 2.81-2.81c.8-.78.8-2.07 0-2.86zM5.41 20L4 18.59l7.72-7.72 1.47 1.35L5.41 20z\"/>\n",
              "  </svg>\n",
              "      </button>\n",
              "      \n",
              "  <style>\n",
              "    .colab-df-container {\n",
              "      display:flex;\n",
              "      flex-wrap:wrap;\n",
              "      gap: 12px;\n",
              "    }\n",
              "\n",
              "    .colab-df-convert {\n",
              "      background-color: #E8F0FE;\n",
              "      border: none;\n",
              "      border-radius: 50%;\n",
              "      cursor: pointer;\n",
              "      display: none;\n",
              "      fill: #1967D2;\n",
              "      height: 32px;\n",
              "      padding: 0 0 0 0;\n",
              "      width: 32px;\n",
              "    }\n",
              "\n",
              "    .colab-df-convert:hover {\n",
              "      background-color: #E2EBFA;\n",
              "      box-shadow: 0px 1px 2px rgba(60, 64, 67, 0.3), 0px 1px 3px 1px rgba(60, 64, 67, 0.15);\n",
              "      fill: #174EA6;\n",
              "    }\n",
              "\n",
              "    [theme=dark] .colab-df-convert {\n",
              "      background-color: #3B4455;\n",
              "      fill: #D2E3FC;\n",
              "    }\n",
              "\n",
              "    [theme=dark] .colab-df-convert:hover {\n",
              "      background-color: #434B5C;\n",
              "      box-shadow: 0px 1px 3px 1px rgba(0, 0, 0, 0.15);\n",
              "      filter: drop-shadow(0px 1px 2px rgba(0, 0, 0, 0.3));\n",
              "      fill: #FFFFFF;\n",
              "    }\n",
              "  </style>\n",
              "\n",
              "      <script>\n",
              "        const buttonEl =\n",
              "          document.querySelector('#df-d4b8b4ab-9e6a-4c21-b7a7-448a56a9bf90 button.colab-df-convert');\n",
              "        buttonEl.style.display =\n",
              "          google.colab.kernel.accessAllowed ? 'block' : 'none';\n",
              "\n",
              "        async function convertToInteractive(key) {\n",
              "          const element = document.querySelector('#df-d4b8b4ab-9e6a-4c21-b7a7-448a56a9bf90');\n",
              "          const dataTable =\n",
              "            await google.colab.kernel.invokeFunction('convertToInteractive',\n",
              "                                                     [key], {});\n",
              "          if (!dataTable) return;\n",
              "\n",
              "          const docLinkHtml = 'Like what you see? Visit the ' +\n",
              "            '<a target=\"_blank\" href=https://colab.research.google.com/notebooks/data_table.ipynb>data table notebook</a>'\n",
              "            + ' to learn more about interactive tables.';\n",
              "          element.innerHTML = '';\n",
              "          dataTable['output_type'] = 'display_data';\n",
              "          await google.colab.output.renderOutput(dataTable, element);\n",
              "          const docLink = document.createElement('div');\n",
              "          docLink.innerHTML = docLinkHtml;\n",
              "          element.appendChild(docLink);\n",
              "        }\n",
              "      </script>\n",
              "    </div>\n",
              "  </div>\n",
              "  "
            ]
          },
          "metadata": {},
          "execution_count": 278
        }
      ],
      "source": [
        "RFM.head()"
      ]
    },
    {
      "cell_type": "markdown",
      "metadata": {
        "id": "AP-rh-UKbLFV"
      },
      "source": [
        "Теперь нам необходимо разбить каждую метрику на категории. Для разбиения по recency будем использовать квантили."
      ]
    },
    {
      "cell_type": "code",
      "execution_count": 279,
      "metadata": {
        "id": "XJmGOk8NbLFW",
        "colab": {
          "base_uri": "https://localhost:8080/"
        },
        "outputId": "b7a0455d-641c-4c1e-8348-27f131434dbd"
      },
      "outputs": [
        {
          "output_type": "execute_result",
          "data": {
            "text/plain": [
              "{0.25: 234.0, 0.5: 241.0, 0.75: 243.0}"
            ]
          },
          "metadata": {},
          "execution_count": 279
        }
      ],
      "source": [
        "quantiles = RFM['recency'].quantile([.25, .5, .75]).to_dict()\n",
        "quantiles"
      ]
    },
    {
      "cell_type": "markdown",
      "metadata": {
        "id": "1UpT39Z5bLFW"
      },
      "source": [
        "Посмотрим, какие уникальные значения принимает метрика frequency."
      ]
    },
    {
      "cell_type": "code",
      "execution_count": null,
      "metadata": {
        "colab": {
          "base_uri": "https://localhost:8080/"
        },
        "id": "rRVBqKGdbLFW",
        "outputId": "851efb9b-613d-4ed8-eb94-2d5fe2b2ccf3"
      },
      "outputs": [
        {
          "output_type": "execute_result",
          "data": {
            "text/plain": [
              "array([1., 0., 2.])"
            ]
          },
          "metadata": {},
          "execution_count": 100
        }
      ],
      "source": [
        "RFM['frequency'].unique()"
      ]
    },
    {
      "cell_type": "markdown",
      "metadata": {
        "id": "_SNgKQZZbLFW"
      },
      "source": [
        "Мы видим всего 3 значения: студент сдал 1, 2 курса либо не сдал ни одного. Их и будем использовать при построении сегментов."
      ]
    },
    {
      "cell_type": "markdown",
      "metadata": {
        "id": "AHmpGyiSbLFW"
      },
      "source": [
        "Посмотрим на monetary. Мы знаем, что максимальный балл составляет 100. Для построения будем использовать следующие диапазоны: 0-39 баллов (не сдано), 40-59 баллов (удовлетворительно), 60-79 баллов (хорошо), 80-100 баллов (отлично)."
      ]
    },
    {
      "cell_type": "markdown",
      "metadata": {
        "id": "PM8cFHuTbLFW"
      },
      "source": [
        "Теперь напишем функцию для присвоения рангов по каждой метрике. При этом имеем в виду, что чем меньше времени студент затратил на сдачу экзамена, тем выше будет его ранг. "
      ]
    },
    {
      "cell_type": "code",
      "execution_count": 280,
      "metadata": {
        "id": "e53VnfuwbLFX"
      },
      "outputs": [],
      "source": [
        "def r_score(x):\n",
        "    if x <= quantiles[.25]:\n",
        "        return 1\n",
        "    elif x <= quantiles[.5]:\n",
        "        return 2\n",
        "    else:\n",
        "        return 3\n",
        "\n",
        "\n",
        "def f_score(x):\n",
        "    if x == 2:\n",
        "        return 1\n",
        "    elif x == 1:\n",
        "        return 2\n",
        "    else:\n",
        "        return 3\n",
        "\n",
        "\n",
        "def m_score(x):\n",
        "    if x < 40:\n",
        "        return 4\n",
        "    elif 40 <= x < 60:\n",
        "        return 3\n",
        "    elif 60 <= x < 79:\n",
        "        return 2\n",
        "    else:\n",
        "        return 1"
      ]
    },
    {
      "cell_type": "markdown",
      "metadata": {
        "id": "hlKYhjqYbLFX"
      },
      "source": [
        "Далее добавим колонки с указанием ранга по каждой метрике в датафрейм RFM."
      ]
    },
    {
      "cell_type": "code",
      "execution_count": 284,
      "metadata": {
        "id": "TNUObmMQbLFX",
        "colab": {
          "base_uri": "https://localhost:8080/"
        },
        "outputId": "05b1c25f-fe43-4893-f2c7-118b8e0cb584"
      },
      "outputs": [
        {
          "output_type": "execute_result",
          "data": {
            "text/plain": [
              "24"
            ]
          },
          "metadata": {},
          "execution_count": 284
        }
      ],
      "source": [
        "# добавим в датафрейм RFM колонки для указания ранга по каждой метрике\n",
        "RFM['R'] = RFM['recency'].apply(lambda x: r_score(x))\n",
        "RFM['F'] = RFM['frequency'].apply(lambda x: f_score(x))\n",
        "RFM['M'] = RFM['monetary'].apply(lambda x: m_score(x))\n",
        "\n",
        "# для каждого студента посчитаем его rfm-рейтинг\n",
        "RFM['RFM_score'] = RFM['R'].map(str) + RFM['F'].map(str) + RFM['M'].map(str)\n",
        "\n",
        "RFM.RFM_score.nunique()"
      ]
    },
    {
      "cell_type": "code",
      "execution_count": 283,
      "metadata": {
        "colab": {
          "base_uri": "https://localhost:8080/",
          "height": 500
        },
        "id": "nGn3iyyxbLFY",
        "outputId": "49da58e9-a641-446b-90ce-1a9a100794c8"
      },
      "outputs": [
        {
          "output_type": "execute_result",
          "data": {
            "text/plain": [
              "<Axes: xlabel='RFM_score', ylabel='count'>"
            ]
          },
          "metadata": {},
          "execution_count": 283
        },
        {
          "output_type": "display_data",
          "data": {
            "text/plain": [
              "<Figure size 1000x500 with 1 Axes>"
            ],
            "image/png": "[encoded data removed]"
          },
          "metadata": {}
        },
        {
          "output_type": "stream",
          "name": "stderr",
          "text": [
            "INFO:pycodestyle:3:23: E231 missing whitespace after ','\n"
          ]
        }
      ],
      "source": [
        "# построим график распределения значений по RFM-рейтингу\n",
        "\n",
        "plt.figure(figsize=(10,5))\n",
        "sns.countplot(data=RFM, x=RFM.RFM_score.sort_values())"
      ]
    },
    {
      "cell_type": "markdown",
      "metadata": {
        "id": "CPBMhlWmbLFY"
      },
      "source": [
        "Мы получили 24 сегмента. При этом в некоторые сегменты попало мало студентов, так что объединим некоторые сегменты, увеличив количество студентов в них."
      ]
    },
    {
      "cell_type": "markdown",
      "metadata": {
        "id": "CmwFUvcYbLFY"
      },
      "source": [
        "Лучше всего с курсами справляются студенты 111, но таких всего 18 человек. Хуже всего - студенты 334 (они не сдали ни одного курса), их 267 человек. Мы не будем учитывать frequency для студентов, которые сдали 1 и 2 курса, но отдельно учтем тех, кто не сдал ни одного.\n",
        "\n",
        "Выделим следующие сегменты:\n",
        "\n",
        "111 и 121  - Чемпионы (сдают быстро (относительно других студентов), имеют самый высокий средний балл)\n",
        "\n",
        "211, 221, 311 и 321 - Крепкие отличники (эти студенты сдают так же хорошо, как и первая группа, но по каким-то причинам тратят больше времени (между ними и группой 1 значительная разница), и стоило бы выяснить почему)\n",
        "\n",
        "112 и 122 - Потенциальные отличники (в целом не имеют проблем, сдают быстро и хорошо, могли бы перейти в отличники, если оказать дополнительную помощь)\n",
        "\n",
        "212 и 222, 312 и 322 - Крепкие хорошисты (по каким-то причинам сдают медленнее своих товарищей по среднему баллу)\n",
        "\n",
        "113 и 123 - Крепкие троешники (сдают относительно быстро, но имеют невысокий средний балл (удовлетворительный))\n",
        "\n",
        "213, 223, 313 и 323 - В зоне риска (эти студенты едва успевают сдать на удовлетворительный балл; считаю, что таким студентам требуется дополнительная помощь)\n",
        "\n",
        "124, 224 и 324, 134, 234 и 334 - Двоешники (три первые группы составляют студенты, которые сдали по одному курсу, но имеют низкий средний балл из-за неудачных попыток сдачи; три последние группы составляют студенты, которые не сдали ни одного курса)"
      ]
    },
    {
      "cell_type": "code",
      "execution_count": 285,
      "metadata": {
        "colab": {
          "base_uri": "https://localhost:8080/"
        },
        "id": "Tb2cK__LbLFY",
        "outputId": "8af0fc7d-1edb-45b1-d365-8eea7a2dae3d"
      },
      "outputs": [
        {
          "output_type": "stream",
          "name": "stderr",
          "text": [
            "INFO:pycodestyle:1:80: E501 line too long (82 > 79 characters)\n"
          ]
        }
      ],
      "source": [
        "# добавим в датафрейм информацию о сегменте, к которому принадлежит каждый студент\n",
        "\n",
        "segt_map = {\n",
        "    r'1[1-2]1': 'Чемпионы',\n",
        "    r'[2-3][1-2]1': 'Крепкие отличники',\n",
        "    r'1[1-2]2': 'Потенциальные отличники',\n",
        "    r'[2-3][1-2]2': 'Крепкие хорошисты',\n",
        "    r'1[1-2]3': 'Крепкие троешники',\n",
        "    r'[2-3][1-2]3': 'В зоне риска',\n",
        "    r'[1-3][2-3]4': 'Двоешники'\n",
        "}\n",
        "\n",
        "RFM['Segment'] = RFM['R'].map(str) + RFM['F'].map(str) + RFM['M'].map(str)\n",
        "RFM['Segment'] = RFM['Segment'].replace(segt_map, regex=True)"
      ]
    },
    {
      "cell_type": "code",
      "execution_count": 286,
      "metadata": {
        "colab": {
          "base_uri": "https://localhost:8080/",
          "height": 1000
        },
        "id": "578Sf7aCbLFY",
        "outputId": "d7f4db2a-8b2f-4fec-c91e-1d657a0c6aec"
      },
      "outputs": [
        {
          "output_type": "display_data",
          "data": {
            "text/plain": [
              "<Figure size 1000x400 with 2 Axes>"
            ],
            "image/png": "[encoded data removed]"
          },
          "metadata": {}
        },
        {
          "output_type": "display_data",
          "data": {
            "text/plain": [
              "<Figure size 1000x1000 with 12 Axes>"
            ],
            "image/png": "[encoded data removed]"
          },
          "metadata": {}
        },
        {
          "output_type": "error",
          "ename": "ValueError",
          "evalue": "ignored",
          "traceback": [
            "\u001b[0;31m---------------------------------------------------------------------------\u001b[0m",
            "\u001b[0;31mValueError\u001b[0m                                Traceback (most recent call last)",
            "\u001b[0;32m/usr/local/lib/python3.10/dist-packages/pycodestyle_magic.py\u001b[0m in \u001b[0;36mauto_run_pycodestyle\u001b[0;34m(self, result)\u001b[0m\n\u001b[1;32m     44\u001b[0m \u001b[0;34m\u001b[0m\u001b[0m\n\u001b[1;32m     45\u001b[0m     \u001b[0;32mdef\u001b[0m \u001b[0mauto_run_pycodestyle\u001b[0m\u001b[0;34m(\u001b[0m\u001b[0mself\u001b[0m\u001b[0;34m,\u001b[0m \u001b[0mresult\u001b[0m\u001b[0;34m)\u001b[0m\u001b[0;34m:\u001b[0m\u001b[0;34m\u001b[0m\u001b[0;34m\u001b[0m\u001b[0m\n\u001b[0;32m---> 46\u001b[0;31m         \u001b[0mpycodestyle\u001b[0m\u001b[0;34m(\u001b[0m\u001b[0;36m1\u001b[0m\u001b[0;34m,\u001b[0m \u001b[0mresult\u001b[0m\u001b[0;34m.\u001b[0m\u001b[0minfo\u001b[0m\u001b[0;34m.\u001b[0m\u001b[0mraw_cell\u001b[0m\u001b[0;34m,\u001b[0m \u001b[0mauto\u001b[0m\u001b[0;34m=\u001b[0m\u001b[0;32mTrue\u001b[0m\u001b[0;34m)\u001b[0m\u001b[0;34m\u001b[0m\u001b[0;34m\u001b[0m\u001b[0m\n\u001b[0m\u001b[1;32m     47\u001b[0m         \u001b[0;32mif\u001b[0m \u001b[0mresult\u001b[0m\u001b[0;34m.\u001b[0m\u001b[0merror_before_exec\u001b[0m\u001b[0;34m:\u001b[0m\u001b[0;34m\u001b[0m\u001b[0;34m\u001b[0m\u001b[0m\n\u001b[1;32m     48\u001b[0m             \u001b[0mprint\u001b[0m\u001b[0;34m(\u001b[0m\u001b[0;34m'Error before execution: %s'\u001b[0m \u001b[0;34m%\u001b[0m \u001b[0mresult\u001b[0m\u001b[0;34m.\u001b[0m\u001b[0merror_before_exec\u001b[0m\u001b[0;34m)\u001b[0m\u001b[0;34m\u001b[0m\u001b[0;34m\u001b[0m\u001b[0m\n",
            "\u001b[0;32m<decorator-gen-122>\u001b[0m in \u001b[0;36mpycodestyle\u001b[0;34m(line, cell, auto)\u001b[0m\n",
            "\u001b[0;32m/usr/local/lib/python3.10/dist-packages/IPython/core/magic.py\u001b[0m in \u001b[0;36m<lambda>\u001b[0;34m(f, *a, **k)\u001b[0m\n\u001b[1;32m    218\u001b[0m     \u001b[0;31m# but it's overkill for just that one bit of state.\u001b[0m\u001b[0;34m\u001b[0m\u001b[0;34m\u001b[0m\u001b[0m\n\u001b[1;32m    219\u001b[0m     \u001b[0;32mdef\u001b[0m \u001b[0mmagic_deco\u001b[0m\u001b[0;34m(\u001b[0m\u001b[0marg\u001b[0m\u001b[0;34m)\u001b[0m\u001b[0;34m:\u001b[0m\u001b[0;34m\u001b[0m\u001b[0;34m\u001b[0m\u001b[0m\n\u001b[0;32m--> 220\u001b[0;31m         \u001b[0mcall\u001b[0m \u001b[0;34m=\u001b[0m \u001b[0;32mlambda\u001b[0m \u001b[0mf\u001b[0m\u001b[0;34m,\u001b[0m \u001b[0;34m*\u001b[0m\u001b[0ma\u001b[0m\u001b[0;34m,\u001b[0m \u001b[0;34m**\u001b[0m\u001b[0mk\u001b[0m\u001b[0;34m:\u001b[0m \u001b[0mf\u001b[0m\u001b[0;34m(\u001b[0m\u001b[0;34m*\u001b[0m\u001b[0ma\u001b[0m\u001b[0;34m,\u001b[0m \u001b[0;34m**\u001b[0m\u001b[0mk\u001b[0m\u001b[0;34m)\u001b[0m\u001b[0;34m\u001b[0m\u001b[0;34m\u001b[0m\u001b[0m\n\u001b[0m\u001b[1;32m    221\u001b[0m \u001b[0;34m\u001b[0m\u001b[0m\n\u001b[1;32m    222\u001b[0m         \u001b[0;31m# Find get_ipython() in the caller's namespace\u001b[0m\u001b[0;34m\u001b[0m\u001b[0;34m\u001b[0m\u001b[0m\n",
            "\u001b[0;32m/usr/local/lib/python3.10/dist-packages/pycodestyle_magic.py\u001b[0m in \u001b[0;36mpycodestyle\u001b[0;34m(line, cell, auto)\u001b[0m\n\u001b[1;32m    173\u001b[0m         \u001b[0;31m#logger.info(line)\u001b[0m\u001b[0;34m\u001b[0m\u001b[0;34m\u001b[0m\u001b[0m\n\u001b[1;32m    174\u001b[0m         \u001b[0;31m# on windows drive path also contains :\u001b[0m\u001b[0;34m\u001b[0m\u001b[0;34m\u001b[0m\u001b[0m\n\u001b[0;32m--> 175\u001b[0;31m         \u001b[0mline\u001b[0m\u001b[0;34m,\u001b[0m \u001b[0mcol\u001b[0m\u001b[0;34m,\u001b[0m \u001b[0merror\u001b[0m \u001b[0;34m=\u001b[0m \u001b[0mline\u001b[0m\u001b[0;34m.\u001b[0m\u001b[0msplit\u001b[0m\u001b[0;34m(\u001b[0m\u001b[0;34m':'\u001b[0m\u001b[0;34m)\u001b[0m\u001b[0;34m[\u001b[0m\u001b[0;34m-\u001b[0m\u001b[0;36m4\u001b[0m\u001b[0;34m:\u001b[0m\u001b[0;34m]\u001b[0m\u001b[0;34m\u001b[0m\u001b[0;34m\u001b[0m\u001b[0m\n\u001b[0m\u001b[1;32m    176\u001b[0m         \u001b[0;31m# do not subtract 1 for line for %%pycodestyle, inc pre py3.6 string\u001b[0m\u001b[0;34m\u001b[0m\u001b[0;34m\u001b[0m\u001b[0m\n\u001b[1;32m    177\u001b[0m         \u001b[0;32mif\u001b[0m \u001b[0mauto\u001b[0m\u001b[0;34m:\u001b[0m\u001b[0;34m\u001b[0m\u001b[0;34m\u001b[0m\u001b[0m\n",
            "\u001b[0;31mValueError\u001b[0m: too many values to unpack (expected 3)"
          ]
        }
      ],
      "source": [
        "# Построим распределение студентов по R и M\n",
        "\n",
        "fig, axes = plt.subplots(nrows=1, ncols=2, figsize=(10, 4))\n",
        "\n",
        "for i, p in enumerate(['R', 'M']):\n",
        "    parameters = {'R':'Recency', 'M':'Monetary'}\n",
        "    y = RFM[p].value_counts().sort_index()\n",
        "    x = y.index\n",
        "    ax = axes[i]\n",
        "    bars = ax.bar(x, y, color='silver')\n",
        "    ax.set_frame_on(False)\n",
        "    ax.tick_params(left=False, labelleft=False, bottom=False)\n",
        "    ax.set_title('Распределение {}'.format(parameters[p]),\n",
        "                fontsize=14)\n",
        "    for bar in bars:\n",
        "        value = bar.get_height()\n",
        "        if value == y.max():\n",
        "            bar.set_color('firebrick')\n",
        "        ax.text(bar.get_x() + bar.get_width() / 2,\n",
        "                value - 5,\n",
        "                '{}\\n({}%)'.format(int(value), int(value * 100 / y.sum())),\n",
        "               ha='center',\n",
        "               va='top',\n",
        "               color='w')\n",
        "\n",
        "plt.show()\n",
        "\n",
        "# Построим распределение M каждого значения R и F\n",
        "\n",
        "fig, axes = plt.subplots(nrows=3, ncols=4,\n",
        "                         sharex=False, sharey=True,\n",
        "                         figsize=(10, 10))\n",
        "\n",
        "r_range = range(1, 4)\n",
        "m_range = range(1, 5)\n",
        "for r in r_range:\n",
        "    for m in m_range:\n",
        "        y = RFM[(RFM['R'] == r) & (RFM['M'] == m)]['F'].value_counts().sort_index()\n",
        "        x = y.index\n",
        "        ax = axes[r - 1, m - 1]\n",
        "        bars = ax.bar(x, y, color='silver')\n",
        "        if r == 5:\n",
        "            if m == 5:\n",
        "                ax.set_xlabel('{}\\nF'.format(f), va='top')\n",
        "            else:\n",
        "                ax.set_xlabel('{}\\n'.format(f), va='top')\n",
        "        if m == 1:\n",
        "            if r == 2:\n",
        "                ax.set_ylabel('R\\n{}'.format(r))\n",
        "            else:\n",
        "                ax.set_ylabel(r)\n",
        "        ax.set_frame_on(False)\n",
        "        ax.tick_params(left=False, labelleft=False, bottom=False)\n",
        "        ax.set_xticks(x)\n",
        "        ax.set_xticklabels(x, fontsize=8)\n",
        "\n",
        "        for bar in bars:\n",
        "            value = bar.get_height()\n",
        "            if value == y.max():\n",
        "                bar.set_color('firebrick')\n",
        "            ax.text(bar.get_x() + bar.get_width() / 2,\n",
        "                    value,\n",
        "                    int(value),\n",
        "                    ha='center',\n",
        "                    va='bottom',\n",
        "                    color='k')\n",
        "fig.suptitle('Распределение F для каждого R и M',\n",
        "             fontsize=14)\n",
        "plt.tight_layout()\n",
        "plt.show()"
      ]
    },
    {
      "cell_type": "code",
      "execution_count": 287,
      "metadata": {
        "scrolled": true,
        "colab": {
          "base_uri": "https://localhost:8080/",
          "height": 493
        },
        "id": "3K8Z7xy5bLFZ",
        "outputId": "b9afc5c0-de77-4013-8ea8-c015bd915680"
      },
      "outputs": [
        {
          "output_type": "display_data",
          "data": {
            "text/plain": [
              "<Figure size 640x480 with 1 Axes>"
            ],
            "image/png": "[encoded data removed]"
          },
          "metadata": {}
        },
        {
          "output_type": "stream",
          "name": "stderr",
          "text": [
            "INFO:pycodestyle:8:15: E128 continuation line under-indented for visual indent\n",
            "INFO:pycodestyle:9:15: E128 continuation line under-indented for visual indent\n",
            "INFO:pycodestyle:18:9: E117 over-indented\n",
            "INFO:pycodestyle:24:36: E128 continuation line under-indented for visual indent\n",
            "INFO:pycodestyle:27:16: E124 closing bracket does not match visual indentation\n"
          ]
        }
      ],
      "source": [
        "# посчитаем количество студентов в каждом сегменте\n",
        "\n",
        "segments_counts = RFM['Segment'].value_counts().sort_values(ascending=True)\n",
        "\n",
        "fig, ax = plt.subplots()\n",
        "\n",
        "bars = ax.barh(range(len(segments_counts)),\n",
        "              segments_counts,\n",
        "              color='silver')\n",
        "ax.set_frame_on(False)\n",
        "ax.tick_params(left=False,\n",
        "               bottom=False,\n",
        "               labelbottom=False)\n",
        "ax.set_yticks(range(len(segments_counts)))\n",
        "ax.set_yticklabels(segments_counts.index)\n",
        "\n",
        "for i, bar in enumerate(bars):\n",
        "        value = bar.get_width()\n",
        "        if segments_counts.index[i] in ['Чемпионы', 'Потенциальные отличники']:\n",
        "            bar.set_color('firebrick')\n",
        "        ax.text(value,\n",
        "                bar.get_y() + bar.get_height()/2,\n",
        "                '{:,} ({:}%)'.format(int(value),\n",
        "                                   int(value*100/segments_counts.sum())),\n",
        "                va='center',\n",
        "                ha='left'\n",
        "               )\n",
        "\n",
        "plt.show()"
      ]
    },
    {
      "cell_type": "markdown",
      "metadata": {
        "id": "OqwqckRHbLFZ"
      },
      "source": [
        "###### Ответ на задание 6:\n",
        "\n",
        "Практически половина студентов тратит больше времени на сдачу экзаменов (относительно других студентов), но нужно иметь в виду, что они все равно успевают сдать экзамен сильно раньше дедлайна (для экзаменов он составляет 247 дней). \n",
        "\n",
        "Большинство студентов входят в группу «крепкие»: это студенты, которые на первый взгляд не испытывают особых трудностей (хорошо учатся, быстро сдают). \n",
        "\n",
        "Меньше всего, ожидаемо, чемпионов, которые «быстрее» и «умнее» остальных. \n",
        "\n",
        "Достаточно большую группу составляют студенты «В зоне риска»: это студенты, которые в среднем тратят больше времени на сдачу экзаменов, а при условии, что они получают в среднем невысокий балл, могут испытывать трудности и начать учиться хуже, так что на них требуется обратить внимание. \n",
        "\n",
        "Достаточно много (десятая часть) всех студентов относится к категории «Двоечники»: это студенты, которые либо не сдали ни одного курса, либо сдали один, но имеют низкий средний балл (ниже 40). На эту категорию также следовало бы обратить внимание хотя бы просто потому, что их слишком много и нужно сокращать количество таких студентов.\n",
        "\n",
        "Требуют внимания и «Потенциальные отличники», поскольку нужно выяснить, чего им не хватает, чтобы начать учиться лучше (повысить свой средний балл)."
      ]
    }
  ],
  "metadata": {
    "kernelspec": {
      "display_name": "Python 3",
      "language": "python",
      "name": "python3"
    },
    "language_info": {
      "codemirror_mode": {
        "name": "ipython",
        "version": 3
      },
      "file_extension": ".py",
      "mimetype": "text/x-python",
      "name": "python",
      "nbconvert_exporter": "python",
      "pygments_lexer": "ipython3",
      "version": "3.7.3"
    },
    "colab": {
      "provenance": []
    }
  },
  "nbformat": 4,
  "nbformat_minor": 0
}